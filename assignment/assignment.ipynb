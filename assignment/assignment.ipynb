{
  "cells": [
    {
      "cell_type": "markdown",
      "id": "13ad028b-72b7-43ed-aa78-96fd4e518040",
      "metadata": {
        "id": "13ad028b-72b7-43ed-aa78-96fd4e518040"
      },
      "source": [
        "# Assignment: Data Wrangling\n",
        "### `! git clone https://github.com/ds4e/wrangling`\n",
        "### Do Q1 and Q2, and either Q3 or Q4, for a total of 3 questions."
      ]
    },
    {
      "cell_type": "markdown",
      "id": "da879ea7-8aac-48a3-b6c2-daea56d2e072",
      "metadata": {
        "id": "da879ea7-8aac-48a3-b6c2-daea56d2e072"
      },
      "source": [
        "**Q1.** This question provides some practice cleaning variables which have common problems."
      ]
    },
    {
      "cell_type": "markdown",
      "id": "8e241889",
      "metadata": {},
      "source": [
        "1. Numeric variable: For `./data/airbnb_hw.csv`, clean the `Price` variable as well as you can, and explain the choices you make. How many missing values do you end up with? (Hint: What happens to the formatting when a price goes over 999 dollars, say from 675 to 1,112?)"
      ]
    },
    {
      "cell_type": "code",
      "execution_count": 704,
      "id": "6daac800",
      "metadata": {},
      "outputs": [],
      "source": [
        "import pandas as pd\n",
        "import numpy as np\n",
        "\n",
        "airbnb = pd.read_csv(\"./data/airbnb_hw.csv\")\n",
        "\n",
        "# It seems that we need to cast the Price column to a string, then remove the commas, then cast it back\n",
        "airbnb[\"Price\"] = airbnb[\"Price\"].str.replace(\",\", \"\")\n",
        "airbnb[\"Price\"] = pd.to_numeric(airbnb[\"Price\"], errors=\"coerce\")\n",
        "\n",
        "# I decided to remove the commas before casting it to an integer, to ensure we don't miss any valid data before casting to numeric"
      ]
    },
    {
      "cell_type": "code",
      "execution_count": 705,
      "id": "2e3c28b0",
      "metadata": {},
      "outputs": [
        {
          "data": {
            "text/plain": [
              "dtype('int64')"
            ]
          },
          "execution_count": 705,
          "metadata": {},
          "output_type": "execute_result"
        }
      ],
      "source": [
        "airbnb[\"Price\"].dtype"
      ]
    },
    {
      "cell_type": "code",
      "execution_count": 706,
      "id": "e687c756",
      "metadata": {},
      "outputs": [
        {
          "data": {
            "text/html": [
              "<div>\n",
              "<style scoped>\n",
              "    .dataframe tbody tr th:only-of-type {\n",
              "        vertical-align: middle;\n",
              "    }\n",
              "\n",
              "    .dataframe tbody tr th {\n",
              "        vertical-align: top;\n",
              "    }\n",
              "\n",
              "    .dataframe thead th {\n",
              "        text-align: right;\n",
              "    }\n",
              "</style>\n",
              "<table border=\"1\" class=\"dataframe\">\n",
              "  <thead>\n",
              "    <tr style=\"text-align: right;\">\n",
              "      <th></th>\n",
              "      <th>Host Id</th>\n",
              "      <th>Host Since</th>\n",
              "      <th>Name</th>\n",
              "      <th>Neighbourhood</th>\n",
              "      <th>Property Type</th>\n",
              "      <th>Review Scores Rating (bin)</th>\n",
              "      <th>Room Type</th>\n",
              "      <th>Zipcode</th>\n",
              "      <th>Beds</th>\n",
              "      <th>Number of Records</th>\n",
              "      <th>Number Of Reviews</th>\n",
              "      <th>Price</th>\n",
              "      <th>Review Scores Rating</th>\n",
              "    </tr>\n",
              "  </thead>\n",
              "  <tbody>\n",
              "  </tbody>\n",
              "</table>\n",
              "</div>"
            ],
            "text/plain": [
              "Empty DataFrame\n",
              "Columns: [Host Id, Host Since, Name, Neighbourhood , Property Type, Review Scores Rating (bin), Room Type, Zipcode, Beds, Number of Records, Number Of Reviews, Price, Review Scores Rating]\n",
              "Index: []"
            ]
          },
          "execution_count": 706,
          "metadata": {},
          "output_type": "execute_result"
        }
      ],
      "source": [
        "airbnb[airbnb[\"Price\"].isna()]"
      ]
    },
    {
      "cell_type": "markdown",
      "id": "9b5336d4",
      "metadata": {},
      "source": [
        "2. Categorical variable: For the Minnesota police use of for data, `./data/mn_police_use_of_force.csv`, clean the `subject_injury` variable, handling the NA's; this gives a value `Yes` when a person was injured by police, and `No` when no injury occurred. What proportion of the values are missing? Is this a concern? Cross-tabulate your cleaned `subject_injury` variable with the `force_type` variable. Are there any patterns regarding when the data are missing? "
      ]
    },
    {
      "cell_type": "code",
      "execution_count": 707,
      "id": "a338ee37",
      "metadata": {},
      "outputs": [
        {
          "name": "stdout",
          "output_type": "stream",
          "text": [
            "Proportion of NA to non-NA: 0.7619342359767892\n"
          ]
        }
      ],
      "source": [
        "police = pd.read_csv(\"./data/mn_police_use_of_force.csv\")\n",
        "si = police[\"subject_injury\"]\n",
        "\n",
        "total_si_null = si.isna().sum()\n",
        "total_si_not_null = si.notna().sum()\n",
        "\n",
        "proportion = total_si_null / (total_si_not_null + total_si_null)\n",
        "print(\"Proportion of NA to non-NA:\", proportion)\n",
        "\n",
        "# This proportion is a bit concerning, as if you wanted to use this value to derive trends from the data, you are going to have to drop a third of your dataset"
      ]
    },
    {
      "cell_type": "code",
      "execution_count": 708,
      "id": "989aeb1d",
      "metadata": {},
      "outputs": [
        {
          "data": {
            "text/html": [
              "<div>\n",
              "<style scoped>\n",
              "    .dataframe tbody tr th:only-of-type {\n",
              "        vertical-align: middle;\n",
              "    }\n",
              "\n",
              "    .dataframe tbody tr th {\n",
              "        vertical-align: top;\n",
              "    }\n",
              "\n",
              "    .dataframe thead th {\n",
              "        text-align: right;\n",
              "    }\n",
              "</style>\n",
              "<table border=\"1\" class=\"dataframe\">\n",
              "  <thead>\n",
              "    <tr style=\"text-align: right;\">\n",
              "      <th></th>\n",
              "      <th>response_datetime</th>\n",
              "      <th>problem</th>\n",
              "      <th>is_911_call</th>\n",
              "      <th>primary_offense</th>\n",
              "      <th>subject_injury</th>\n",
              "      <th>force_type</th>\n",
              "      <th>force_type_action</th>\n",
              "      <th>race</th>\n",
              "      <th>sex</th>\n",
              "      <th>age</th>\n",
              "      <th>type_resistance</th>\n",
              "      <th>precinct</th>\n",
              "      <th>neighborhood</th>\n",
              "    </tr>\n",
              "  </thead>\n",
              "  <tbody>\n",
              "    <tr>\n",
              "      <th>9</th>\n",
              "      <td>2016/01/01 02:38:23</td>\n",
              "      <td>Fight</td>\n",
              "      <td>No</td>\n",
              "      <td>DISCON</td>\n",
              "      <td>No</td>\n",
              "      <td>Chemical Irritant</td>\n",
              "      <td>Crowd Control Mace</td>\n",
              "      <td>Black</td>\n",
              "      <td>Male</td>\n",
              "      <td>18.0</td>\n",
              "      <td>commission of crime</td>\n",
              "      <td>1</td>\n",
              "      <td>Downtown West</td>\n",
              "    </tr>\n",
              "    <tr>\n",
              "      <th>10</th>\n",
              "      <td>2016/01/01 02:38:23</td>\n",
              "      <td>Fight</td>\n",
              "      <td>No</td>\n",
              "      <td>DISCON</td>\n",
              "      <td>No</td>\n",
              "      <td>Chemical Irritant</td>\n",
              "      <td>Chemical Munitions</td>\n",
              "      <td>Black</td>\n",
              "      <td>Male</td>\n",
              "      <td>18.0</td>\n",
              "      <td>commission of crime</td>\n",
              "      <td>1</td>\n",
              "      <td>Downtown West</td>\n",
              "    </tr>\n",
              "    <tr>\n",
              "      <th>11</th>\n",
              "      <td>2016/01/01 02:39:47</td>\n",
              "      <td>Suspicious Person</td>\n",
              "      <td>No</td>\n",
              "      <td>DISCON</td>\n",
              "      <td>Yes</td>\n",
              "      <td>Bodily Force</td>\n",
              "      <td>Body Weight to Pin</td>\n",
              "      <td>Black</td>\n",
              "      <td>Male</td>\n",
              "      <td>21.0</td>\n",
              "      <td>Tensed</td>\n",
              "      <td>5</td>\n",
              "      <td>Lowry Hill East</td>\n",
              "    </tr>\n",
              "    <tr>\n",
              "      <th>12</th>\n",
              "      <td>2016/01/01 02:39:47</td>\n",
              "      <td>Suspicious Person</td>\n",
              "      <td>No</td>\n",
              "      <td>DISCON</td>\n",
              "      <td>Yes</td>\n",
              "      <td>Bodily Force</td>\n",
              "      <td>Joint Lock</td>\n",
              "      <td>Black</td>\n",
              "      <td>Male</td>\n",
              "      <td>21.0</td>\n",
              "      <td>Tensed</td>\n",
              "      <td>5</td>\n",
              "      <td>Lowry Hill East</td>\n",
              "    </tr>\n",
              "    <tr>\n",
              "      <th>13</th>\n",
              "      <td>2016/01/01 02:39:47</td>\n",
              "      <td>Suspicious Person</td>\n",
              "      <td>No</td>\n",
              "      <td>DISCON</td>\n",
              "      <td>Yes</td>\n",
              "      <td>Bodily Force</td>\n",
              "      <td>Body Weight to Pin</td>\n",
              "      <td>Black</td>\n",
              "      <td>Male</td>\n",
              "      <td>21.0</td>\n",
              "      <td>Tensed</td>\n",
              "      <td>5</td>\n",
              "      <td>Lowry Hill East</td>\n",
              "    </tr>\n",
              "    <tr>\n",
              "      <th>...</th>\n",
              "      <td>...</td>\n",
              "      <td>...</td>\n",
              "      <td>...</td>\n",
              "      <td>...</td>\n",
              "      <td>...</td>\n",
              "      <td>...</td>\n",
              "      <td>...</td>\n",
              "      <td>...</td>\n",
              "      <td>...</td>\n",
              "      <td>...</td>\n",
              "      <td>...</td>\n",
              "      <td>...</td>\n",
              "      <td>...</td>\n",
              "    </tr>\n",
              "    <tr>\n",
              "      <th>4932</th>\n",
              "      <td>2018/05/31 17:48:10</td>\n",
              "      <td>Traffic Law Enforcement</td>\n",
              "      <td>No</td>\n",
              "      <td>FLEE</td>\n",
              "      <td>Yes</td>\n",
              "      <td>Bodily Force</td>\n",
              "      <td>Push Away</td>\n",
              "      <td>Black</td>\n",
              "      <td>Male</td>\n",
              "      <td>15.0</td>\n",
              "      <td>Assaulted Officer</td>\n",
              "      <td>4</td>\n",
              "      <td>Jordan</td>\n",
              "    </tr>\n",
              "    <tr>\n",
              "      <th>4934</th>\n",
              "      <td>2018/06/01 12:37:52</td>\n",
              "      <td>Theft</td>\n",
              "      <td>No</td>\n",
              "      <td>FLEEFT</td>\n",
              "      <td>Yes</td>\n",
              "      <td>Taser</td>\n",
              "      <td>Firing Darts</td>\n",
              "      <td>Black</td>\n",
              "      <td>Male</td>\n",
              "      <td>42.0</td>\n",
              "      <td>Fled on Foot</td>\n",
              "      <td>3</td>\n",
              "      <td>Powderhorn Park</td>\n",
              "    </tr>\n",
              "    <tr>\n",
              "      <th>4936</th>\n",
              "      <td>2018/06/02 00:14:11</td>\n",
              "      <td>Bait Vehicle Auto Theft</td>\n",
              "      <td>No</td>\n",
              "      <td>AUTOTH</td>\n",
              "      <td>No</td>\n",
              "      <td>Bodily Force</td>\n",
              "      <td>Joint Lock</td>\n",
              "      <td>Black</td>\n",
              "      <td>Male</td>\n",
              "      <td>24.0</td>\n",
              "      <td>Fled in Vehicle</td>\n",
              "      <td>1</td>\n",
              "      <td>Loring Park</td>\n",
              "    </tr>\n",
              "    <tr>\n",
              "      <th>4937</th>\n",
              "      <td>2018/06/02 00:14:11</td>\n",
              "      <td>Bait Vehicle Auto Theft</td>\n",
              "      <td>No</td>\n",
              "      <td>AUTOTH</td>\n",
              "      <td>No</td>\n",
              "      <td>Gun Point Display</td>\n",
              "      <td>Compliance</td>\n",
              "      <td>Black</td>\n",
              "      <td>Male</td>\n",
              "      <td>24.0</td>\n",
              "      <td>Fled in Vehicle</td>\n",
              "      <td>1</td>\n",
              "      <td>Loring Park</td>\n",
              "    </tr>\n",
              "    <tr>\n",
              "      <th>4942</th>\n",
              "      <td>2018/06/02 10:33:35</td>\n",
              "      <td>Down Outside-One</td>\n",
              "      <td>Yes</td>\n",
              "      <td>ASLT4</td>\n",
              "      <td>No</td>\n",
              "      <td>Bodily Force</td>\n",
              "      <td>Punches</td>\n",
              "      <td>Black</td>\n",
              "      <td>Male</td>\n",
              "      <td>30.0</td>\n",
              "      <td>Commission of Crime</td>\n",
              "      <td>4</td>\n",
              "      <td>Lind - Bohanon</td>\n",
              "    </tr>\n",
              "  </tbody>\n",
              "</table>\n",
              "<p>3077 rows × 13 columns</p>\n",
              "</div>"
            ],
            "text/plain": [
              "        response_datetime                   problem is_911_call  \\\n",
              "9     2016/01/01 02:38:23                    Fight           No   \n",
              "10    2016/01/01 02:38:23                    Fight           No   \n",
              "11    2016/01/01 02:39:47        Suspicious Person           No   \n",
              "12    2016/01/01 02:39:47        Suspicious Person           No   \n",
              "13    2016/01/01 02:39:47        Suspicious Person           No   \n",
              "...                   ...                       ...         ...   \n",
              "4932  2018/05/31 17:48:10  Traffic Law Enforcement           No   \n",
              "4934  2018/06/01 12:37:52                    Theft           No   \n",
              "4936  2018/06/02 00:14:11  Bait Vehicle Auto Theft           No   \n",
              "4937  2018/06/02 00:14:11  Bait Vehicle Auto Theft           No   \n",
              "4942  2018/06/02 10:33:35         Down Outside-One          Yes   \n",
              "\n",
              "     primary_offense subject_injury         force_type   force_type_action  \\\n",
              "9             DISCON             No  Chemical Irritant  Crowd Control Mace   \n",
              "10            DISCON             No  Chemical Irritant  Chemical Munitions   \n",
              "11            DISCON            Yes       Bodily Force  Body Weight to Pin   \n",
              "12            DISCON            Yes       Bodily Force          Joint Lock   \n",
              "13            DISCON            Yes       Bodily Force  Body Weight to Pin   \n",
              "...              ...            ...                ...                 ...   \n",
              "4932            FLEE            Yes       Bodily Force           Push Away   \n",
              "4934          FLEEFT            Yes              Taser        Firing Darts   \n",
              "4936          AUTOTH             No       Bodily Force          Joint Lock   \n",
              "4937          AUTOTH             No  Gun Point Display          Compliance   \n",
              "4942           ASLT4             No       Bodily Force             Punches   \n",
              "\n",
              "       race   sex   age      type_resistance  precinct     neighborhood  \n",
              "9     Black  Male  18.0  commission of crime         1    Downtown West  \n",
              "10    Black  Male  18.0  commission of crime         1    Downtown West  \n",
              "11    Black  Male  21.0               Tensed         5  Lowry Hill East  \n",
              "12    Black  Male  21.0               Tensed         5  Lowry Hill East  \n",
              "13    Black  Male  21.0               Tensed         5  Lowry Hill East  \n",
              "...     ...   ...   ...                  ...       ...              ...  \n",
              "4932  Black  Male  15.0    Assaulted Officer         4           Jordan  \n",
              "4934  Black  Male  42.0         Fled on Foot         3  Powderhorn Park  \n",
              "4936  Black  Male  24.0      Fled in Vehicle         1      Loring Park  \n",
              "4937  Black  Male  24.0      Fled in Vehicle         1      Loring Park  \n",
              "4942  Black  Male  30.0  Commission of Crime         4   Lind - Bohanon  \n",
              "\n",
              "[3077 rows x 13 columns]"
            ]
          },
          "execution_count": 708,
          "metadata": {},
          "output_type": "execute_result"
        }
      ],
      "source": [
        "police_cleaned = police.dropna(subset=[\"subject_injury\"])\n",
        "police_cleaned"
      ]
    },
    {
      "cell_type": "code",
      "execution_count": 709,
      "id": "e3c78e6e",
      "metadata": {},
      "outputs": [
        {
          "data": {
            "text/html": [
              "<div>\n",
              "<style scoped>\n",
              "    .dataframe tbody tr th:only-of-type {\n",
              "        vertical-align: middle;\n",
              "    }\n",
              "\n",
              "    .dataframe tbody tr th {\n",
              "        vertical-align: top;\n",
              "    }\n",
              "\n",
              "    .dataframe thead th {\n",
              "        text-align: right;\n",
              "    }\n",
              "</style>\n",
              "<table border=\"1\" class=\"dataframe\">\n",
              "  <thead>\n",
              "    <tr style=\"text-align: right;\">\n",
              "      <th>force_type</th>\n",
              "      <th>Baton</th>\n",
              "      <th>Bodily Force</th>\n",
              "      <th>Chemical Irritant</th>\n",
              "      <th>Firearm</th>\n",
              "      <th>Gun Point Display</th>\n",
              "      <th>Improvised Weapon</th>\n",
              "      <th>Less Lethal Projectile</th>\n",
              "      <th>Police K9 Bite</th>\n",
              "      <th>Taser</th>\n",
              "    </tr>\n",
              "    <tr>\n",
              "      <th>subject_injury</th>\n",
              "      <th></th>\n",
              "      <th></th>\n",
              "      <th></th>\n",
              "      <th></th>\n",
              "      <th></th>\n",
              "      <th></th>\n",
              "      <th></th>\n",
              "      <th></th>\n",
              "      <th></th>\n",
              "    </tr>\n",
              "  </thead>\n",
              "  <tbody>\n",
              "    <tr>\n",
              "      <th>No</th>\n",
              "      <td>0</td>\n",
              "      <td>1093</td>\n",
              "      <td>131</td>\n",
              "      <td>2</td>\n",
              "      <td>33</td>\n",
              "      <td>34</td>\n",
              "      <td>1</td>\n",
              "      <td>2</td>\n",
              "      <td>150</td>\n",
              "    </tr>\n",
              "    <tr>\n",
              "      <th>Yes</th>\n",
              "      <td>2</td>\n",
              "      <td>1286</td>\n",
              "      <td>41</td>\n",
              "      <td>0</td>\n",
              "      <td>44</td>\n",
              "      <td>40</td>\n",
              "      <td>2</td>\n",
              "      <td>44</td>\n",
              "      <td>172</td>\n",
              "    </tr>\n",
              "  </tbody>\n",
              "</table>\n",
              "</div>"
            ],
            "text/plain": [
              "force_type      Baton  Bodily Force  Chemical Irritant  Firearm  \\\n",
              "subject_injury                                                    \n",
              "No                  0          1093                131        2   \n",
              "Yes                 2          1286                 41        0   \n",
              "\n",
              "force_type      Gun Point Display  Improvised Weapon  Less Lethal Projectile  \\\n",
              "subject_injury                                                                 \n",
              "No                             33                 34                       1   \n",
              "Yes                            44                 40                       2   \n",
              "\n",
              "force_type      Police K9 Bite  Taser  \n",
              "subject_injury                         \n",
              "No                           2    150  \n",
              "Yes                         44    172  "
            ]
          },
          "execution_count": 709,
          "metadata": {},
          "output_type": "execute_result"
        }
      ],
      "source": [
        "# Inspect the columns for any missing values\n",
        "police_cleaned[['subject_injury', 'force_type']].isna().sum()\n",
        "\n",
        "cross_tab = pd.crosstab(police_cleaned['subject_injury'], police_cleaned['force_type'])\n",
        "\n",
        "cross_tab"
      ]
    },
    {
      "cell_type": "code",
      "execution_count": 710,
      "id": "2baacd61",
      "metadata": {},
      "outputs": [
        {
          "name": "stdout",
          "output_type": "stream",
          "text": [
            "force_type      Baton  Bodily Force  Chemical Irritant  Firearm  \\\n",
            "subject_injury                                                    \n",
            "No                  0          1093                131        2   \n",
            "Yes                 2          1286                 41        0   \n",
            "NaN                 2          7051               1421        0   \n",
            "\n",
            "force_type      Gun Point Display  Improvised Weapon  Less Lethal  \\\n",
            "subject_injury                                                      \n",
            "No                             33                 34            0   \n",
            "Yes                            44                 40            0   \n",
            "NaN                            27                 74           87   \n",
            "\n",
            "force_type      Less Lethal Projectile  Maximal Restraint Technique  \\\n",
            "subject_injury                                                        \n",
            "No                                   1                            0   \n",
            "Yes                                  2                            0   \n",
            "NaN                                  0                          170   \n",
            "\n",
            "force_type      Police K9 Bite  Taser  \n",
            "subject_injury                         \n",
            "No                           2    150  \n",
            "Yes                         44    172  \n",
            "NaN                         31    985  \n",
            "         response_datetime               problem is_911_call primary_offense  \\\n",
            "0      2016/01/01 00:47:36  Assault in Progress          Yes          DASLT1   \n",
            "1      2016/01/01 02:19:34                Fight           No          DISCON   \n",
            "2      2016/01/01 02:19:34                Fight           No          DISCON   \n",
            "3      2016/01/01 02:28:48                Fight           No          PRIORI   \n",
            "4      2016/01/01 02:28:48                Fight           No          PRIORI   \n",
            "...                    ...                   ...         ...             ...   \n",
            "12920  2021/08/30 21:38:46  Assault in Progress          Yes        ASLT5      \n",
            "12921  2021/08/30 22:32:22      Unwanted Person          Yes        CIC        \n",
            "12922  2021/08/31 12:03:08       Overdose w/All          Yes        FORCE      \n",
            "12923  2021/08/31 12:52:52      Attempt Pick-Up           No        WT         \n",
            "12924  2021/08/31 21:34:29      Unwanted Person           No        FORCE      \n",
            "\n",
            "      subject_injury         force_type   force_type_action   race     sex  \\\n",
            "0                NaN       Bodily Force  Body Weight to Pin  Black    Male   \n",
            "1                NaN  Chemical Irritant       Personal Mace  Black  Female   \n",
            "2                NaN  Chemical Irritant       Personal Mace  White  Female   \n",
            "3                NaN  Chemical Irritant  Crowd Control Mace  Black    Male   \n",
            "4                NaN  Chemical Irritant  Crowd Control Mace  Black    Male   \n",
            "...              ...                ...                 ...    ...     ...   \n",
            "12920            NaN       Bodily Force          Joint Lock  White  Female   \n",
            "12921            NaN       Bodily Force          Joint Lock    NaN     NaN   \n",
            "12922            NaN       Bodily Force     Body Weight Pin  Black    Male   \n",
            "12923            NaN       Bodily Force     Body Weight Pin  Black    Male   \n",
            "12924            NaN       Bodily Force           Push Away  White    Male   \n",
            "\n",
            "        age        type_resistance  precinct       neighborhood  \n",
            "0      20.0                 Tensed         1      Downtown East  \n",
            "1      27.0  Verbal Non-Compliance         1      Downtown West  \n",
            "2      23.0  Verbal Non-Compliance         1      Downtown West  \n",
            "3      20.0    Commission of Crime         1      Downtown West  \n",
            "4      20.0    Commission of Crime         1      Downtown West  \n",
            "...     ...                    ...       ...                ...  \n",
            "12920  69.0                    NaN         1        Loring Park  \n",
            "12921   NaN                    NaN         1    Cedar Riverside  \n",
            "12922   NaN                    NaN         3             Seward  \n",
            "12923  31.0                    NaN         4  Camden Industrial  \n",
            "12924   NaN                      X         1         North Loop  \n",
            "\n",
            "[9848 rows x 13 columns]\n"
          ]
        }
      ],
      "source": [
        "cross_tab_with_missing = pd.crosstab(police['subject_injury'], police['force_type'], dropna=False)\n",
        "\n",
        "# Cross-tab with missing values\n",
        "print(cross_tab_with_missing)\n",
        "\n",
        "missing_data = police[police['subject_injury'].isna() | police['force_type'].isna()]\n",
        "print(missing_data)\n",
        "\n",
        "# It seems that there is no obvious pattern as to what data is missing, and all the variables have pretty much the same rate of NaNs"
      ]
    },
    {
      "cell_type": "markdown",
      "id": "4d1faf6b",
      "metadata": {},
      "source": [
        "3. Dummy variable: For the pretrial data covered in the lecture, clean the `WhetherDefendantWasReleasedPretrial` variable as well as you can, and, in particular, replace missing values with `np.nan`."
      ]
    },
    {
      "cell_type": "code",
      "execution_count": 711,
      "id": "71c338df",
      "metadata": {},
      "outputs": [
        {
          "data": {
            "text/html": [
              "<div>\n",
              "<style scoped>\n",
              "    .dataframe tbody tr th:only-of-type {\n",
              "        vertical-align: middle;\n",
              "    }\n",
              "\n",
              "    .dataframe tbody tr th {\n",
              "        vertical-align: top;\n",
              "    }\n",
              "\n",
              "    .dataframe thead th {\n",
              "        text-align: right;\n",
              "    }\n",
              "</style>\n",
              "<table border=\"1\" class=\"dataframe\">\n",
              "  <thead>\n",
              "    <tr style=\"text-align: right;\">\n",
              "      <th></th>\n",
              "      <th>WhetherDefendantWasReleasedPretrial</th>\n",
              "      <th>WhetherDefendantWasReleasedPretrial_nan</th>\n",
              "    </tr>\n",
              "  </thead>\n",
              "  <tbody>\n",
              "    <tr>\n",
              "      <th>0</th>\n",
              "      <td>NaN</td>\n",
              "      <td>True</td>\n",
              "    </tr>\n",
              "    <tr>\n",
              "      <th>1</th>\n",
              "      <td>0.0</td>\n",
              "      <td>False</td>\n",
              "    </tr>\n",
              "    <tr>\n",
              "      <th>2</th>\n",
              "      <td>0.0</td>\n",
              "      <td>False</td>\n",
              "    </tr>\n",
              "    <tr>\n",
              "      <th>3</th>\n",
              "      <td>0.0</td>\n",
              "      <td>False</td>\n",
              "    </tr>\n",
              "    <tr>\n",
              "      <th>4</th>\n",
              "      <td>1.0</td>\n",
              "      <td>False</td>\n",
              "    </tr>\n",
              "    <tr>\n",
              "      <th>...</th>\n",
              "      <td>...</td>\n",
              "      <td>...</td>\n",
              "    </tr>\n",
              "    <tr>\n",
              "      <th>22981</th>\n",
              "      <td>1.0</td>\n",
              "      <td>False</td>\n",
              "    </tr>\n",
              "    <tr>\n",
              "      <th>22982</th>\n",
              "      <td>1.0</td>\n",
              "      <td>False</td>\n",
              "    </tr>\n",
              "    <tr>\n",
              "      <th>22983</th>\n",
              "      <td>1.0</td>\n",
              "      <td>False</td>\n",
              "    </tr>\n",
              "    <tr>\n",
              "      <th>22984</th>\n",
              "      <td>1.0</td>\n",
              "      <td>False</td>\n",
              "    </tr>\n",
              "    <tr>\n",
              "      <th>22985</th>\n",
              "      <td>1.0</td>\n",
              "      <td>False</td>\n",
              "    </tr>\n",
              "  </tbody>\n",
              "</table>\n",
              "<p>22986 rows × 2 columns</p>\n",
              "</div>"
            ],
            "text/plain": [
              "       WhetherDefendantWasReleasedPretrial  \\\n",
              "0                                      NaN   \n",
              "1                                      0.0   \n",
              "2                                      0.0   \n",
              "3                                      0.0   \n",
              "4                                      1.0   \n",
              "...                                    ...   \n",
              "22981                                  1.0   \n",
              "22982                                  1.0   \n",
              "22983                                  1.0   \n",
              "22984                                  1.0   \n",
              "22985                                  1.0   \n",
              "\n",
              "       WhetherDefendantWasReleasedPretrial_nan  \n",
              "0                                         True  \n",
              "1                                        False  \n",
              "2                                        False  \n",
              "3                                        False  \n",
              "4                                        False  \n",
              "...                                        ...  \n",
              "22981                                    False  \n",
              "22982                                    False  \n",
              "22983                                    False  \n",
              "22984                                    False  \n",
              "22985                                    False  \n",
              "\n",
              "[22986 rows x 2 columns]"
            ]
          },
          "execution_count": 711,
          "metadata": {},
          "output_type": "execute_result"
        }
      ],
      "source": [
        "pretrial = pd.read_csv(\"./data/October 2017 Cohort_Virginia Pretrial Data Project_Deidentified FINAL Update_10272021.csv\", low_memory=False)\n",
        "column = \"WhetherDefendantWasReleasedPretrial\"\n",
        "\n",
        "pretrial[column] = pd.to_numeric(pretrial[column], errors='coerce') # Coerce the variable to numeric\n",
        "\n",
        "pretrial[column] = pretrial[column].apply(lambda x: x if x in [0, 1] else np.nan)\n",
        "pretrial[\"WhetherDefendantWasReleasedPretrial_nan\"] = pretrial[\"WhetherDefendantWasReleasedPretrial\"].isnull()\n",
        "\n",
        "pretrial[[column, \"WhetherDefendantWasReleasedPretrial_nan\"]]"
      ]
    },
    {
      "cell_type": "markdown",
      "id": "cc1a952b",
      "metadata": {},
      "source": [
        "4. Missing values, not at random: For the pretrial data covered in the lecture, clean the `ImposedSentenceAllChargeInContactEvent` variable as well as you can, and explain the choices you make. (Hint: Look at the `SentenceTypeAllChargesAtConvictionInContactEvent` variable.)"
      ]
    },
    {
      "cell_type": "code",
      "execution_count": 712,
      "id": "6a60e713",
      "metadata": {},
      "outputs": [
        {
          "name": "stdout",
          "output_type": "stream",
          "text": [
            "[9 4]\n"
          ]
        }
      ],
      "source": [
        "imposed_numeric = pd.to_numeric(pretrial[\"ImposedSentenceAllChargeInContactEvent\"], errors=\"coerce\")\n",
        "\n",
        "imposed_and_sentence_type = pd.DataFrame({\n",
        "    \"ImposedSentenceAllChargeInContactEvent\": imposed_numeric,\n",
        "    \"SentenceTypeAllChargesAtConvictionInContactEvent\": pretrial[\"SentenceTypeAllChargesAtConvictionInContactEvent\"]\n",
        "})\n",
        "\n",
        "\n",
        "imposed_null = imposed_and_sentence_type[imposed_and_sentence_type[\"ImposedSentenceAllChargeInContactEvent\"].isnull()]\n",
        "print(imposed_null[\"SentenceTypeAllChargesAtConvictionInContactEvent\"].unique())\n",
        "# Looking at this, we can see that the only values that have ImposedSentenceAllChargeInContactEvent as null are 9 and 4"
      ]
    },
    {
      "cell_type": "code",
      "execution_count": 713,
      "id": "95d461d8",
      "metadata": {},
      "outputs": [
        {
          "data": {
            "text/plain": [
              "array([0])"
            ]
          },
          "execution_count": 713,
          "metadata": {},
          "output_type": "execute_result"
        }
      ],
      "source": [
        "zero_sentence = imposed_and_sentence_type.query(\"ImposedSentenceAllChargeInContactEvent == 0\")\n",
        "zero_sentence[\"SentenceTypeAllChargesAtConvictionInContactEvent\"].unique()"
      ]
    },
    {
      "cell_type": "code",
      "execution_count": 714,
      "id": "bd9b4753",
      "metadata": {},
      "outputs": [
        {
          "data": {
            "text/html": [
              "<div>\n",
              "<style scoped>\n",
              "    .dataframe tbody tr th:only-of-type {\n",
              "        vertical-align: middle;\n",
              "    }\n",
              "\n",
              "    .dataframe tbody tr th {\n",
              "        vertical-align: top;\n",
              "    }\n",
              "\n",
              "    .dataframe thead th {\n",
              "        text-align: right;\n",
              "    }\n",
              "</style>\n",
              "<table border=\"1\" class=\"dataframe\">\n",
              "  <thead>\n",
              "    <tr style=\"text-align: right;\">\n",
              "      <th></th>\n",
              "      <th>ImposedSentenceAllChargeInContactEvent</th>\n",
              "      <th>SentenceTypeAllChargesAtConvictionInContactEvent</th>\n",
              "    </tr>\n",
              "  </thead>\n",
              "  <tbody>\n",
              "    <tr>\n",
              "      <th>0</th>\n",
              "      <td>NaN</td>\n",
              "      <td>9</td>\n",
              "    </tr>\n",
              "    <tr>\n",
              "      <th>1</th>\n",
              "      <td>60.000000</td>\n",
              "      <td>0</td>\n",
              "    </tr>\n",
              "    <tr>\n",
              "      <th>2</th>\n",
              "      <td>12.000000</td>\n",
              "      <td>1</td>\n",
              "    </tr>\n",
              "    <tr>\n",
              "      <th>3</th>\n",
              "      <td>0.985626</td>\n",
              "      <td>1</td>\n",
              "    </tr>\n",
              "    <tr>\n",
              "      <th>4</th>\n",
              "      <td>0.000000</td>\n",
              "      <td>4</td>\n",
              "    </tr>\n",
              "    <tr>\n",
              "      <th>...</th>\n",
              "      <td>...</td>\n",
              "      <td>...</td>\n",
              "    </tr>\n",
              "    <tr>\n",
              "      <th>22981</th>\n",
              "      <td>0.000000</td>\n",
              "      <td>4</td>\n",
              "    </tr>\n",
              "    <tr>\n",
              "      <th>22982</th>\n",
              "      <td>NaN</td>\n",
              "      <td>9</td>\n",
              "    </tr>\n",
              "    <tr>\n",
              "      <th>22983</th>\n",
              "      <td>0.000000</td>\n",
              "      <td>4</td>\n",
              "    </tr>\n",
              "    <tr>\n",
              "      <th>22984</th>\n",
              "      <td>0.000000</td>\n",
              "      <td>4</td>\n",
              "    </tr>\n",
              "    <tr>\n",
              "      <th>22985</th>\n",
              "      <td>0.000000</td>\n",
              "      <td>4</td>\n",
              "    </tr>\n",
              "  </tbody>\n",
              "</table>\n",
              "<p>22986 rows × 2 columns</p>\n",
              "</div>"
            ],
            "text/plain": [
              "       ImposedSentenceAllChargeInContactEvent  \\\n",
              "0                                         NaN   \n",
              "1                                   60.000000   \n",
              "2                                   12.000000   \n",
              "3                                    0.985626   \n",
              "4                                    0.000000   \n",
              "...                                       ...   \n",
              "22981                                0.000000   \n",
              "22982                                     NaN   \n",
              "22983                                0.000000   \n",
              "22984                                0.000000   \n",
              "22985                                0.000000   \n",
              "\n",
              "       SentenceTypeAllChargesAtConvictionInContactEvent  \n",
              "0                                                     9  \n",
              "1                                                     0  \n",
              "2                                                     1  \n",
              "3                                                     1  \n",
              "4                                                     4  \n",
              "...                                                 ...  \n",
              "22981                                                 4  \n",
              "22982                                                 9  \n",
              "22983                                                 4  \n",
              "22984                                                 4  \n",
              "22985                                                 4  \n",
              "\n",
              "[22986 rows x 2 columns]"
            ]
          },
          "execution_count": 714,
          "metadata": {},
          "output_type": "execute_result"
        }
      ],
      "source": [
        "# Looking at the above findings, the only 0s in the column are for Probation/no incarceration. \n",
        "# It feels appropriate to make the SentenceTypeAllChargesAtConvictionInContactEvent==4 rows 0s as well, as all charges in cohort contact resulted in pending, dismissed, deferred, etc.\n",
        "# However, the SentenceTypeAllChargesAtConvictionInContactEvent==9 should remain NaN, as the record was not found, or it is unknown, and giving it a value would feel dishonest, as no value represents the data better\n",
        "\n",
        "# Replace all occurences with 4 as 0\n",
        "imposed_and_sentence_type.loc[imposed_and_sentence_type[\"SentenceTypeAllChargesAtConvictionInContactEvent\"]==4, \"ImposedSentenceAllChargeInContactEvent\"] = 0\n",
        "\n",
        "# Replace all occurences with 9 as NaN (already like this but for peace of mind)\n",
        "imposed_and_sentence_type.loc[imposed_and_sentence_type[\"SentenceTypeAllChargesAtConvictionInContactEvent\"]==9, \"ImposedSentenceAllChargeInContactEvent\"] = np.nan\n",
        "\n",
        "imposed_and_sentence_type"
      ]
    },
    {
      "cell_type": "markdown",
      "id": "5a60a44e",
      "metadata": {},
      "source": [
        "**Q2.** Go to https://sharkattackfile.net/ and download their dataset on shark attacks.\n",
        "\n",
        "1. Open the shark attack file using Pandas. It is probably not a csv file, so `read_csv` won't work.\n",
        "2. Drop any columns that do not contain data.\n",
        "3. Clean the year variable. Describe the range of values you see. Filter the rows to focus on attacks since 1940. Are attacks increasing, decreasing, or remaining constant over time?\n",
        "4. Clean the Age variable and make a histogram of the ages of the victims.\n",
        "5. What proportion of victims are male?\n",
        "6. Clean the `Type` variable so it only takes three values: Provoked and Unprovoked and Unknown. What proportion of attacks are unprovoked?\n",
        "7. Clean the `Fatal Y/N` variable so it only takes three values: Y, N, and Unknown.\n",
        "8. Are sharks more likely to launch unprovoked attacks on men or women? Is the attack more or less likely to be fatal when the attack is provoked or unprovoked? Is it more or less likely to be fatal when the victim is male or female? How do you feel about sharks?\n",
        "9. What proportion of attacks appear to be by white sharks? (Hint: `str.split()` makes a vector of text values into a list of lists, split by spaces.)"
      ]
    },
    {
      "cell_type": "code",
      "execution_count": 715,
      "id": "dd56d26d",
      "metadata": {},
      "outputs": [
        {
          "name": "stderr",
          "output_type": "stream",
          "text": [
            "74939.98s - pydevd: Sending message related to process being replaced timed-out after 5 seconds\n"
          ]
        },
        {
          "name": "stdout",
          "output_type": "stream",
          "text": [
            "Requirement already satisfied: xlrd in /Library/Frameworks/Python.framework/Versions/3.11/lib/python3.11/site-packages (2.0.1)\n",
            "\n",
            "\u001b[1m[\u001b[0m\u001b[34;49mnotice\u001b[0m\u001b[1;39;49m]\u001b[0m\u001b[39;49m A new release of pip is available: \u001b[0m\u001b[31;49m24.3.1\u001b[0m\u001b[39;49m -> \u001b[0m\u001b[32;49m25.0\u001b[0m\n",
            "\u001b[1m[\u001b[0m\u001b[34;49mnotice\u001b[0m\u001b[1;39;49m]\u001b[0m\u001b[39;49m To update, run: \u001b[0m\u001b[32;49mpip3.11 install --upgrade pip\u001b[0m\n",
            "Note: you may need to restart the kernel to use updated packages.\n"
          ]
        }
      ],
      "source": [
        "%pip install xlrd"
      ]
    },
    {
      "cell_type": "code",
      "execution_count": 765,
      "id": "f8a618c9",
      "metadata": {},
      "outputs": [
        {
          "data": {
            "text/html": [
              "<div>\n",
              "<style scoped>\n",
              "    .dataframe tbody tr th:only-of-type {\n",
              "        vertical-align: middle;\n",
              "    }\n",
              "\n",
              "    .dataframe tbody tr th {\n",
              "        vertical-align: top;\n",
              "    }\n",
              "\n",
              "    .dataframe thead th {\n",
              "        text-align: right;\n",
              "    }\n",
              "</style>\n",
              "<table border=\"1\" class=\"dataframe\">\n",
              "  <thead>\n",
              "    <tr style=\"text-align: right;\">\n",
              "      <th></th>\n",
              "      <th>Date</th>\n",
              "      <th>Year</th>\n",
              "      <th>Type</th>\n",
              "      <th>Country</th>\n",
              "      <th>State</th>\n",
              "      <th>Location</th>\n",
              "      <th>Activity</th>\n",
              "      <th>Name</th>\n",
              "      <th>Sex</th>\n",
              "      <th>Age</th>\n",
              "      <th>...</th>\n",
              "      <th>Species</th>\n",
              "      <th>Source</th>\n",
              "      <th>pdf</th>\n",
              "      <th>href formula</th>\n",
              "      <th>href</th>\n",
              "      <th>Case Number</th>\n",
              "      <th>Case Number.1</th>\n",
              "      <th>original order</th>\n",
              "      <th>Unnamed: 21</th>\n",
              "      <th>Unnamed: 22</th>\n",
              "    </tr>\n",
              "  </thead>\n",
              "  <tbody>\n",
              "    <tr>\n",
              "      <th>0</th>\n",
              "      <td>2025-01-23 00:00:00</td>\n",
              "      <td>2025.0</td>\n",
              "      <td>Unprovoked</td>\n",
              "      <td>Australia</td>\n",
              "      <td>Western Australia</td>\n",
              "      <td>Shipwreck Cove</td>\n",
              "      <td>Bathing</td>\n",
              "      <td>Boy</td>\n",
              "      <td>M</td>\n",
              "      <td>12</td>\n",
              "      <td>...</td>\n",
              "      <td>Not stated</td>\n",
              "      <td>Bob Myatt GSAF</td>\n",
              "      <td>NaN</td>\n",
              "      <td>NaN</td>\n",
              "      <td>NaN</td>\n",
              "      <td>NaN</td>\n",
              "      <td>NaN</td>\n",
              "      <td>NaN</td>\n",
              "      <td>NaN</td>\n",
              "      <td>NaN</td>\n",
              "    </tr>\n",
              "    <tr>\n",
              "      <th>1</th>\n",
              "      <td>2025-01-22 00:00:00</td>\n",
              "      <td>2025.0</td>\n",
              "      <td>Unprovoked</td>\n",
              "      <td>Australia</td>\n",
              "      <td>Western Australia</td>\n",
              "      <td>Cheynes beach</td>\n",
              "      <td>Surfing</td>\n",
              "      <td>Dale Kittow</td>\n",
              "      <td>M</td>\n",
              "      <td>37</td>\n",
              "      <td>...</td>\n",
              "      <td>Bronze whaler</td>\n",
              "      <td>Bob Myatt GSAF</td>\n",
              "      <td>NaN</td>\n",
              "      <td>NaN</td>\n",
              "      <td>NaN</td>\n",
              "      <td>NaN</td>\n",
              "      <td>NaN</td>\n",
              "      <td>NaN</td>\n",
              "      <td>NaN</td>\n",
              "      <td>NaN</td>\n",
              "    </tr>\n",
              "    <tr>\n",
              "      <th>2</th>\n",
              "      <td>2025-01-11 00:00:00</td>\n",
              "      <td>2025.0</td>\n",
              "      <td>Provoked</td>\n",
              "      <td>USA</td>\n",
              "      <td>Hawaii</td>\n",
              "      <td>Off Haleiwa Boat Harbour Oahu</td>\n",
              "      <td>Diving</td>\n",
              "      <td>Male not stated was a dive tour worker</td>\n",
              "      <td>M</td>\n",
              "      <td>23</td>\n",
              "      <td>...</td>\n",
              "      <td>Not stated</td>\n",
              "      <td>Kevin McMurray Trackingsharks.com</td>\n",
              "      <td>NaN</td>\n",
              "      <td>NaN</td>\n",
              "      <td>NaN</td>\n",
              "      <td>NaN</td>\n",
              "      <td>NaN</td>\n",
              "      <td>NaN</td>\n",
              "      <td>NaN</td>\n",
              "      <td>NaN</td>\n",
              "    </tr>\n",
              "    <tr>\n",
              "      <th>3</th>\n",
              "      <td>2025-01-02 00:00:00</td>\n",
              "      <td>2025.0</td>\n",
              "      <td>Unprovoked</td>\n",
              "      <td>New Caledonia</td>\n",
              "      <td>Grande Terre</td>\n",
              "      <td>Islet of Kendek near Koumac</td>\n",
              "      <td>Spearfishing</td>\n",
              "      <td>Robert Cuewapuru</td>\n",
              "      <td>M</td>\n",
              "      <td>40</td>\n",
              "      <td>...</td>\n",
              "      <td>Reportedly Tiger or Bull shark</td>\n",
              "      <td>Johannes Marchand Todd Smith</td>\n",
              "      <td>NaN</td>\n",
              "      <td>NaN</td>\n",
              "      <td>NaN</td>\n",
              "      <td>NaN</td>\n",
              "      <td>NaN</td>\n",
              "      <td>NaN</td>\n",
              "      <td>NaN</td>\n",
              "      <td>NaN</td>\n",
              "    </tr>\n",
              "    <tr>\n",
              "      <th>4</th>\n",
              "      <td>2025-01-02 00:00:00</td>\n",
              "      <td>2025.0</td>\n",
              "      <td>Unprovoked</td>\n",
              "      <td>Australia</td>\n",
              "      <td>South Australia</td>\n",
              "      <td>Granites Beach near Westall Streaky Bay</td>\n",
              "      <td>Surfing</td>\n",
              "      <td>Lance Appleby</td>\n",
              "      <td>M</td>\n",
              "      <td>28</td>\n",
              "      <td>...</td>\n",
              "      <td>Great White Shart estimated 4.8m 16 ft</td>\n",
              "      <td>Glen Folkard: Simon De Marchi News.com.au: The...</td>\n",
              "      <td>NaN</td>\n",
              "      <td>NaN</td>\n",
              "      <td>NaN</td>\n",
              "      <td>NaN</td>\n",
              "      <td>NaN</td>\n",
              "      <td>NaN</td>\n",
              "      <td>NaN</td>\n",
              "      <td>NaN</td>\n",
              "    </tr>\n",
              "    <tr>\n",
              "      <th>...</th>\n",
              "      <td>...</td>\n",
              "      <td>...</td>\n",
              "      <td>...</td>\n",
              "      <td>...</td>\n",
              "      <td>...</td>\n",
              "      <td>...</td>\n",
              "      <td>...</td>\n",
              "      <td>...</td>\n",
              "      <td>...</td>\n",
              "      <td>...</td>\n",
              "      <td>...</td>\n",
              "      <td>...</td>\n",
              "      <td>...</td>\n",
              "      <td>...</td>\n",
              "      <td>...</td>\n",
              "      <td>...</td>\n",
              "      <td>...</td>\n",
              "      <td>...</td>\n",
              "      <td>...</td>\n",
              "      <td>...</td>\n",
              "      <td>...</td>\n",
              "    </tr>\n",
              "    <tr>\n",
              "      <th>6987</th>\n",
              "      <td>Before 1903</td>\n",
              "      <td>0.0</td>\n",
              "      <td>Unprovoked</td>\n",
              "      <td>AUSTRALIA</td>\n",
              "      <td>Western Australia</td>\n",
              "      <td>Roebuck Bay</td>\n",
              "      <td>Diving</td>\n",
              "      <td>male</td>\n",
              "      <td>M</td>\n",
              "      <td>NaN</td>\n",
              "      <td>...</td>\n",
              "      <td>NaN</td>\n",
              "      <td>H. Taunton; N. Bartlett,  p. 234</td>\n",
              "      <td>ND-0005-RoebuckBay.pdf</td>\n",
              "      <td>http://sharkattackfile.net/spreadsheets/pdf_di...</td>\n",
              "      <td>http://sharkattackfile.net/spreadsheets/pdf_di...</td>\n",
              "      <td>ND.0005</td>\n",
              "      <td>ND.0005</td>\n",
              "      <td>6.0</td>\n",
              "      <td>NaN</td>\n",
              "      <td>NaN</td>\n",
              "    </tr>\n",
              "    <tr>\n",
              "      <th>6988</th>\n",
              "      <td>Before 1903</td>\n",
              "      <td>0.0</td>\n",
              "      <td>Unprovoked</td>\n",
              "      <td>AUSTRALIA</td>\n",
              "      <td>Western Australia</td>\n",
              "      <td>NaN</td>\n",
              "      <td>Pearl diving</td>\n",
              "      <td>Ahmun</td>\n",
              "      <td>M</td>\n",
              "      <td>NaN</td>\n",
              "      <td>...</td>\n",
              "      <td>NaN</td>\n",
              "      <td>H. Taunton; N. Bartlett,  pp. 233-234</td>\n",
              "      <td>ND-0004-Ahmun.pdf</td>\n",
              "      <td>http://sharkattackfile.net/spreadsheets/pdf_di...</td>\n",
              "      <td>http://sharkattackfile.net/spreadsheets/pdf_di...</td>\n",
              "      <td>ND.0004</td>\n",
              "      <td>ND.0004</td>\n",
              "      <td>5.0</td>\n",
              "      <td>NaN</td>\n",
              "      <td>NaN</td>\n",
              "    </tr>\n",
              "    <tr>\n",
              "      <th>6989</th>\n",
              "      <td>1900-1905</td>\n",
              "      <td>0.0</td>\n",
              "      <td>Unprovoked</td>\n",
              "      <td>USA</td>\n",
              "      <td>North Carolina</td>\n",
              "      <td>Ocracoke Inlet</td>\n",
              "      <td>Swimming</td>\n",
              "      <td>Coast Guard personnel</td>\n",
              "      <td>M</td>\n",
              "      <td>NaN</td>\n",
              "      <td>...</td>\n",
              "      <td>NaN</td>\n",
              "      <td>F. Schwartz, p.23; C. Creswell, GSAF</td>\n",
              "      <td>ND-0003-Ocracoke_1900-1905.pdf</td>\n",
              "      <td>http://sharkattackfile.net/spreadsheets/pdf_di...</td>\n",
              "      <td>http://sharkattackfile.net/spreadsheets/pdf_di...</td>\n",
              "      <td>ND.0003</td>\n",
              "      <td>ND.0003</td>\n",
              "      <td>4.0</td>\n",
              "      <td>NaN</td>\n",
              "      <td>NaN</td>\n",
              "    </tr>\n",
              "    <tr>\n",
              "      <th>6990</th>\n",
              "      <td>1883-1889</td>\n",
              "      <td>0.0</td>\n",
              "      <td>Unprovoked</td>\n",
              "      <td>PANAMA</td>\n",
              "      <td>NaN</td>\n",
              "      <td>Panama Bay 8ºN, 79ºW</td>\n",
              "      <td>NaN</td>\n",
              "      <td>Jules Patterson</td>\n",
              "      <td>M</td>\n",
              "      <td>NaN</td>\n",
              "      <td>...</td>\n",
              "      <td>NaN</td>\n",
              "      <td>The Sun, 10/20/1938</td>\n",
              "      <td>ND-0002-JulesPatterson.pdf</td>\n",
              "      <td>http://sharkattackfile.net/spreadsheets/pdf_di...</td>\n",
              "      <td>http://sharkattackfile.net/spreadsheets/pdf_di...</td>\n",
              "      <td>ND.0002</td>\n",
              "      <td>ND.0002</td>\n",
              "      <td>3.0</td>\n",
              "      <td>NaN</td>\n",
              "      <td>NaN</td>\n",
              "    </tr>\n",
              "    <tr>\n",
              "      <th>6991</th>\n",
              "      <td>1845-1853</td>\n",
              "      <td>0.0</td>\n",
              "      <td>Unprovoked</td>\n",
              "      <td>CEYLON (SRI LANKA)</td>\n",
              "      <td>Eastern Province</td>\n",
              "      <td>Below the English fort, Trincomalee</td>\n",
              "      <td>Swimming</td>\n",
              "      <td>male</td>\n",
              "      <td>M</td>\n",
              "      <td>15</td>\n",
              "      <td>...</td>\n",
              "      <td>NaN</td>\n",
              "      <td>S.W. Baker</td>\n",
              "      <td>ND-0001-Ceylon.pdf</td>\n",
              "      <td>http://sharkattackfile.net/spreadsheets/pdf_di...</td>\n",
              "      <td>http://sharkattackfile.net/spreadsheets/pdf_di...</td>\n",
              "      <td>ND.0001</td>\n",
              "      <td>ND.0001</td>\n",
              "      <td>2.0</td>\n",
              "      <td>NaN</td>\n",
              "      <td>NaN</td>\n",
              "    </tr>\n",
              "  </tbody>\n",
              "</table>\n",
              "<p>6992 rows × 23 columns</p>\n",
              "</div>"
            ],
            "text/plain": [
              "                     Date    Year        Type             Country  \\\n",
              "0     2025-01-23 00:00:00  2025.0  Unprovoked           Australia   \n",
              "1     2025-01-22 00:00:00  2025.0  Unprovoked           Australia   \n",
              "2     2025-01-11 00:00:00  2025.0    Provoked                 USA   \n",
              "3     2025-01-02 00:00:00  2025.0  Unprovoked       New Caledonia   \n",
              "4     2025-01-02 00:00:00  2025.0  Unprovoked           Australia   \n",
              "...                   ...     ...         ...                 ...   \n",
              "6987          Before 1903     0.0  Unprovoked           AUSTRALIA   \n",
              "6988          Before 1903     0.0  Unprovoked           AUSTRALIA   \n",
              "6989            1900-1905     0.0  Unprovoked                 USA   \n",
              "6990            1883-1889     0.0  Unprovoked              PANAMA   \n",
              "6991            1845-1853     0.0  Unprovoked  CEYLON (SRI LANKA)   \n",
              "\n",
              "                  State                                 Location  \\\n",
              "0     Western Australia                           Shipwreck Cove   \n",
              "1     Western Australia                           Cheynes beach    \n",
              "2                Hawaii            Off Haleiwa Boat Harbour Oahu   \n",
              "3          Grande Terre              Islet of Kendek near Koumac   \n",
              "4       South Australia  Granites Beach near Westall Streaky Bay   \n",
              "...                 ...                                      ...   \n",
              "6987  Western Australia                              Roebuck Bay   \n",
              "6988  Western Australia                                      NaN   \n",
              "6989     North Carolina                           Ocracoke Inlet   \n",
              "6990                NaN                     Panama Bay 8ºN, 79ºW   \n",
              "6991   Eastern Province      Below the English fort, Trincomalee   \n",
              "\n",
              "          Activity                                    Name Sex  Age  ...  \\\n",
              "0          Bathing                                    Boy    M   12  ...   \n",
              "1          Surfing                             Dale Kittow   M   37  ...   \n",
              "2           Diving  Male not stated was a dive tour worker   M   23  ...   \n",
              "3     Spearfishing                        Robert Cuewapuru   M   40  ...   \n",
              "4          Surfing                           Lance Appleby   M   28  ...   \n",
              "...            ...                                     ...  ..  ...  ...   \n",
              "6987        Diving                                    male   M  NaN  ...   \n",
              "6988  Pearl diving                                   Ahmun   M  NaN  ...   \n",
              "6989      Swimming                   Coast Guard personnel   M  NaN  ...   \n",
              "6990           NaN                         Jules Patterson   M  NaN  ...   \n",
              "6991      Swimming                                    male   M   15  ...   \n",
              "\n",
              "                                    Species   \\\n",
              "0                                 Not stated   \n",
              "1                              Bronze whaler   \n",
              "2                                 Not stated   \n",
              "3             Reportedly Tiger or Bull shark   \n",
              "4     Great White Shart estimated 4.8m 16 ft   \n",
              "...                                      ...   \n",
              "6987                                     NaN   \n",
              "6988                                     NaN   \n",
              "6989                                     NaN   \n",
              "6990                                     NaN   \n",
              "6991                                     NaN   \n",
              "\n",
              "                                                 Source  \\\n",
              "0                                        Bob Myatt GSAF   \n",
              "1                                        Bob Myatt GSAF   \n",
              "2                     Kevin McMurray Trackingsharks.com   \n",
              "3                         Johannes Marchand Todd Smith    \n",
              "4     Glen Folkard: Simon De Marchi News.com.au: The...   \n",
              "...                                                 ...   \n",
              "6987                   H. Taunton; N. Bartlett,  p. 234   \n",
              "6988              H. Taunton; N. Bartlett,  pp. 233-234   \n",
              "6989               F. Schwartz, p.23; C. Creswell, GSAF   \n",
              "6990                                The Sun, 10/20/1938   \n",
              "6991                                         S.W. Baker   \n",
              "\n",
              "                                 pdf  \\\n",
              "0                                NaN   \n",
              "1                                NaN   \n",
              "2                                NaN   \n",
              "3                                NaN   \n",
              "4                                NaN   \n",
              "...                              ...   \n",
              "6987          ND-0005-RoebuckBay.pdf   \n",
              "6988               ND-0004-Ahmun.pdf   \n",
              "6989  ND-0003-Ocracoke_1900-1905.pdf   \n",
              "6990      ND-0002-JulesPatterson.pdf   \n",
              "6991              ND-0001-Ceylon.pdf   \n",
              "\n",
              "                                           href formula  \\\n",
              "0                                                   NaN   \n",
              "1                                                   NaN   \n",
              "2                                                   NaN   \n",
              "3                                                   NaN   \n",
              "4                                                   NaN   \n",
              "...                                                 ...   \n",
              "6987  http://sharkattackfile.net/spreadsheets/pdf_di...   \n",
              "6988  http://sharkattackfile.net/spreadsheets/pdf_di...   \n",
              "6989  http://sharkattackfile.net/spreadsheets/pdf_di...   \n",
              "6990  http://sharkattackfile.net/spreadsheets/pdf_di...   \n",
              "6991  http://sharkattackfile.net/spreadsheets/pdf_di...   \n",
              "\n",
              "                                                   href Case Number  \\\n",
              "0                                                   NaN         NaN   \n",
              "1                                                   NaN         NaN   \n",
              "2                                                   NaN         NaN   \n",
              "3                                                   NaN         NaN   \n",
              "4                                                   NaN         NaN   \n",
              "...                                                 ...         ...   \n",
              "6987  http://sharkattackfile.net/spreadsheets/pdf_di...     ND.0005   \n",
              "6988  http://sharkattackfile.net/spreadsheets/pdf_di...     ND.0004   \n",
              "6989  http://sharkattackfile.net/spreadsheets/pdf_di...     ND.0003   \n",
              "6990  http://sharkattackfile.net/spreadsheets/pdf_di...     ND.0002   \n",
              "6991  http://sharkattackfile.net/spreadsheets/pdf_di...     ND.0001   \n",
              "\n",
              "     Case Number.1 original order Unnamed: 21 Unnamed: 22  \n",
              "0              NaN            NaN         NaN         NaN  \n",
              "1              NaN            NaN         NaN         NaN  \n",
              "2              NaN            NaN         NaN         NaN  \n",
              "3              NaN            NaN         NaN         NaN  \n",
              "4              NaN            NaN         NaN         NaN  \n",
              "...            ...            ...         ...         ...  \n",
              "6987       ND.0005            6.0         NaN         NaN  \n",
              "6988       ND.0004            5.0         NaN         NaN  \n",
              "6989       ND.0003            4.0         NaN         NaN  \n",
              "6990       ND.0002            3.0         NaN         NaN  \n",
              "6991       ND.0001            2.0         NaN         NaN  \n",
              "\n",
              "[6992 rows x 23 columns]"
            ]
          },
          "execution_count": 765,
          "metadata": {},
          "output_type": "execute_result"
        }
      ],
      "source": [
        "shark_attacks = pd.read_excel(\"./data/GSAF5.xls\")\n",
        "shark_attacks"
      ]
    },
    {
      "cell_type": "code",
      "execution_count": 766,
      "id": "0bca675e",
      "metadata": {},
      "outputs": [
        {
          "data": {
            "text/plain": [
              "Index(['Date', 'Year', 'Type', 'Country', 'State', 'Location', 'Activity',\n",
              "       'Name', 'Sex', 'Age', 'Injury', 'Fatal Y/N', 'Time', 'Species ',\n",
              "       'Source', 'pdf', 'href formula', 'href', 'Case Number', 'Case Number.1',\n",
              "       'original order', 'Unnamed: 21', 'Unnamed: 22'],\n",
              "      dtype='object')"
            ]
          },
          "execution_count": 766,
          "metadata": {},
          "output_type": "execute_result"
        }
      ],
      "source": [
        "shark_attacks.columns"
      ]
    },
    {
      "cell_type": "code",
      "execution_count": 767,
      "id": "b31d8fb5",
      "metadata": {},
      "outputs": [
        {
          "name": "stdout",
          "output_type": "stream",
          "text": [
            "[nan 'stopped here']\n",
            "[nan 'Teramo' 'change filename']\n",
            "[nan]\n",
            "[nan]\n"
          ]
        },
        {
          "name": "stderr",
          "output_type": "stream",
          "text": [
            "/var/folders/rw/kqv4w2bj5hx2v1ln61zfm4pr0000gn/T/ipykernel_25879/3634060264.py:5: FutureWarning: Downcasting behavior in `replace` is deprecated and will be removed in a future version. To retain the old behavior, explicitly call `result.infer_objects(copy=False)`. To opt-in to the future behavior, set `pd.set_option('future.no_silent_downcasting', True)`\n",
            "  shark_attacks.loc[:,\"Unnamed: 21\"] = shark_attacks[\"Unnamed: 21\"].replace('stopped here', np.nan)\n",
            "/var/folders/rw/kqv4w2bj5hx2v1ln61zfm4pr0000gn/T/ipykernel_25879/3634060264.py:6: FutureWarning: Downcasting behavior in `replace` is deprecated and will be removed in a future version. To retain the old behavior, explicitly call `result.infer_objects(copy=False)`. To opt-in to the future behavior, set `pd.set_option('future.no_silent_downcasting', True)`\n",
            "  shark_attacks.loc[:,\"Unnamed: 22\"] = shark_attacks[\"Unnamed: 22\"].replace({'Teramo': np.nan, 'change filename': np.nan})\n"
          ]
        }
      ],
      "source": [
        "print(shark_attacks[\"Unnamed: 21\"].unique())\n",
        "print(shark_attacks[\"Unnamed: 22\"].unique())\n",
        "\n",
        "# Only 1 occurence of 'stopped here', 'Teramo', and 'change filename' respectively\n",
        "shark_attacks.loc[:,\"Unnamed: 21\"] = shark_attacks[\"Unnamed: 21\"].replace('stopped here', np.nan)\n",
        "shark_attacks.loc[:,\"Unnamed: 22\"] = shark_attacks[\"Unnamed: 22\"].replace({'Teramo': np.nan, 'change filename': np.nan})\n",
        "\n",
        "print(shark_attacks[\"Unnamed: 21\"].unique())\n",
        "print(shark_attacks[\"Unnamed: 22\"].unique())\n",
        "\n",
        "shark_attacks = shark_attacks.dropna(axis=1, how=\"all\")"
      ]
    },
    {
      "cell_type": "code",
      "execution_count": 768,
      "id": "5375f3ae",
      "metadata": {},
      "outputs": [
        {
          "data": {
            "text/html": [
              "<div>\n",
              "<style scoped>\n",
              "    .dataframe tbody tr th:only-of-type {\n",
              "        vertical-align: middle;\n",
              "    }\n",
              "\n",
              "    .dataframe tbody tr th {\n",
              "        vertical-align: top;\n",
              "    }\n",
              "\n",
              "    .dataframe thead th {\n",
              "        text-align: right;\n",
              "    }\n",
              "</style>\n",
              "<table border=\"1\" class=\"dataframe\">\n",
              "  <thead>\n",
              "    <tr style=\"text-align: right;\">\n",
              "      <th></th>\n",
              "      <th>Date</th>\n",
              "      <th>Year</th>\n",
              "      <th>Type</th>\n",
              "      <th>Country</th>\n",
              "      <th>State</th>\n",
              "      <th>Location</th>\n",
              "      <th>Activity</th>\n",
              "      <th>Name</th>\n",
              "      <th>Sex</th>\n",
              "      <th>Age</th>\n",
              "      <th>...</th>\n",
              "      <th>Fatal Y/N</th>\n",
              "      <th>Time</th>\n",
              "      <th>Species</th>\n",
              "      <th>Source</th>\n",
              "      <th>pdf</th>\n",
              "      <th>href formula</th>\n",
              "      <th>href</th>\n",
              "      <th>Case Number</th>\n",
              "      <th>Case Number.1</th>\n",
              "      <th>original order</th>\n",
              "    </tr>\n",
              "  </thead>\n",
              "  <tbody>\n",
              "    <tr>\n",
              "      <th>27</th>\n",
              "      <td>2024-07-04 00:00:00</td>\n",
              "      <td>2026.0</td>\n",
              "      <td>Unprovoked</td>\n",
              "      <td>USA</td>\n",
              "      <td>Texas</td>\n",
              "      <td>South Padre Island</td>\n",
              "      <td>Swimming</td>\n",
              "      <td>Victoria Ramos</td>\n",
              "      <td>F</td>\n",
              "      <td>18</td>\n",
              "      <td>...</td>\n",
              "      <td>N</td>\n",
              "      <td>?</td>\n",
              "      <td>6 ft shark</td>\n",
              "      <td>Valley Central</td>\n",
              "      <td>NaN</td>\n",
              "      <td>NaN</td>\n",
              "      <td>NaN</td>\n",
              "      <td>NaN</td>\n",
              "      <td>NaN</td>\n",
              "      <td>NaN</td>\n",
              "    </tr>\n",
              "    <tr>\n",
              "      <th>849</th>\n",
              "      <td>Reported 08-Jan-2017</td>\n",
              "      <td>NaN</td>\n",
              "      <td>Invalid</td>\n",
              "      <td>AUSTRALIA</td>\n",
              "      <td>Queensland</td>\n",
              "      <td>NaN</td>\n",
              "      <td>Spearfishing</td>\n",
              "      <td>Kerry Daniel</td>\n",
              "      <td>M</td>\n",
              "      <td>35</td>\n",
              "      <td>...</td>\n",
              "      <td>NaN</td>\n",
              "      <td>NaN</td>\n",
              "      <td>Bull shark</td>\n",
              "      <td>Liquid Vision 1/8/2017</td>\n",
              "      <td>2017.01.08.R-KerryDaniel.pdf</td>\n",
              "      <td>http://sharkattackfile.net/spreadsheets/pdf_di...</td>\n",
              "      <td>http://sharkattackfile.net/spreadsheets/pdf_di...</td>\n",
              "      <td>2017.01.08.R</td>\n",
              "      <td>2017.01.08.R</td>\n",
              "      <td>6142.0</td>\n",
              "    </tr>\n",
              "    <tr>\n",
              "      <th>6761</th>\n",
              "      <td>Reported 19-Aug-1836</td>\n",
              "      <td>NaN</td>\n",
              "      <td>Unprovoked</td>\n",
              "      <td>ENGLAND</td>\n",
              "      <td>Cumberland</td>\n",
              "      <td>Whitehaven</td>\n",
              "      <td>Swimming</td>\n",
              "      <td>a boy</td>\n",
              "      <td>M</td>\n",
              "      <td>NaN</td>\n",
              "      <td>...</td>\n",
              "      <td>Y</td>\n",
              "      <td>NaN</td>\n",
              "      <td>NaN</td>\n",
              "      <td>C. Moore, GSAF</td>\n",
              "      <td>1835.08.19.R-Whitehaven.pdf</td>\n",
              "      <td>http://sharkattackfile.net/spreadsheets/pdf_di...</td>\n",
              "      <td>http://sharkattackfile.net/spreadsheets/pdf_di...</td>\n",
              "      <td>1836.08.19.R</td>\n",
              "      <td>1836.08.19.R</td>\n",
              "      <td>230.0</td>\n",
              "    </tr>\n",
              "  </tbody>\n",
              "</table>\n",
              "<p>3 rows × 21 columns</p>\n",
              "</div>"
            ],
            "text/plain": [
              "                      Date    Year        Type    Country       State  \\\n",
              "27     2024-07-04 00:00:00  2026.0  Unprovoked        USA       Texas   \n",
              "849   Reported 08-Jan-2017     NaN     Invalid  AUSTRALIA  Queensland   \n",
              "6761  Reported 19-Aug-1836     NaN  Unprovoked    ENGLAND  Cumberland   \n",
              "\n",
              "                Location      Activity            Name Sex  Age  ...  \\\n",
              "27    South Padre Island      Swimming  Victoria Ramos   F   18  ...   \n",
              "849                  NaN  Spearfishing    Kerry Daniel   M   35  ...   \n",
              "6761          Whitehaven      Swimming           a boy   M  NaN  ...   \n",
              "\n",
              "     Fatal Y/N Time    Species                   Source  \\\n",
              "27           N    ?  6 ft shark          Valley Central   \n",
              "849        NaN  NaN  Bull shark  Liquid Vision 1/8/2017   \n",
              "6761         Y  NaN         NaN          C. Moore, GSAF   \n",
              "\n",
              "                               pdf  \\\n",
              "27                             NaN   \n",
              "849   2017.01.08.R-KerryDaniel.pdf   \n",
              "6761   1835.08.19.R-Whitehaven.pdf   \n",
              "\n",
              "                                           href formula  \\\n",
              "27                                                  NaN   \n",
              "849   http://sharkattackfile.net/spreadsheets/pdf_di...   \n",
              "6761  http://sharkattackfile.net/spreadsheets/pdf_di...   \n",
              "\n",
              "                                                   href   Case Number  \\\n",
              "27                                                  NaN           NaN   \n",
              "849   http://sharkattackfile.net/spreadsheets/pdf_di...  2017.01.08.R   \n",
              "6761  http://sharkattackfile.net/spreadsheets/pdf_di...  1836.08.19.R   \n",
              "\n",
              "     Case Number.1 original order  \n",
              "27             NaN            NaN  \n",
              "849   2017.01.08.R         6142.0  \n",
              "6761  1836.08.19.R          230.0  \n",
              "\n",
              "[3 rows x 21 columns]"
            ]
          },
          "execution_count": 768,
          "metadata": {},
          "output_type": "execute_result"
        }
      ],
      "source": [
        "bad_years = shark_attacks[shark_attacks[\"Year\"].isna() | (shark_attacks[\"Year\"] > 2025.0)]\n",
        "bad_years"
      ]
    },
    {
      "cell_type": "code",
      "execution_count": 769,
      "id": "1ff80e03",
      "metadata": {},
      "outputs": [],
      "source": [
        "shark_attacks.iloc[27, shark_attacks.columns.get_loc(\"Year\")] = 2024.0\n",
        "shark_attacks.iloc[849, shark_attacks.columns.get_loc(\"Year\")] = 2017.0\n",
        "shark_attacks.iloc[6761, shark_attacks.columns.get_loc(\"Year\")] = 1836.0"
      ]
    },
    {
      "cell_type": "code",
      "execution_count": 770,
      "id": "f479aeff",
      "metadata": {},
      "outputs": [
        {
          "data": {
            "text/html": [
              "<div>\n",
              "<style scoped>\n",
              "    .dataframe tbody tr th:only-of-type {\n",
              "        vertical-align: middle;\n",
              "    }\n",
              "\n",
              "    .dataframe tbody tr th {\n",
              "        vertical-align: top;\n",
              "    }\n",
              "\n",
              "    .dataframe thead th {\n",
              "        text-align: right;\n",
              "    }\n",
              "</style>\n",
              "<table border=\"1\" class=\"dataframe\">\n",
              "  <thead>\n",
              "    <tr style=\"text-align: right;\">\n",
              "      <th></th>\n",
              "      <th>Date</th>\n",
              "      <th>Year</th>\n",
              "      <th>Type</th>\n",
              "      <th>Country</th>\n",
              "      <th>State</th>\n",
              "      <th>Location</th>\n",
              "      <th>Activity</th>\n",
              "      <th>Name</th>\n",
              "      <th>Sex</th>\n",
              "      <th>Age</th>\n",
              "      <th>...</th>\n",
              "      <th>Fatal Y/N</th>\n",
              "      <th>Time</th>\n",
              "      <th>Species</th>\n",
              "      <th>Source</th>\n",
              "      <th>pdf</th>\n",
              "      <th>href formula</th>\n",
              "      <th>href</th>\n",
              "      <th>Case Number</th>\n",
              "      <th>Case Number.1</th>\n",
              "      <th>original order</th>\n",
              "    </tr>\n",
              "  </thead>\n",
              "  <tbody>\n",
              "  </tbody>\n",
              "</table>\n",
              "<p>0 rows × 21 columns</p>\n",
              "</div>"
            ],
            "text/plain": [
              "Empty DataFrame\n",
              "Columns: [Date, Year, Type, Country, State, Location, Activity, Name, Sex, Age, Injury, Fatal Y/N, Time, Species , Source, pdf, href formula, href, Case Number, Case Number.1, original order]\n",
              "Index: []\n",
              "\n",
              "[0 rows x 21 columns]"
            ]
          },
          "execution_count": 770,
          "metadata": {},
          "output_type": "execute_result"
        }
      ],
      "source": [
        "bad_years = shark_attacks[shark_attacks[\"Year\"].isna() | (shark_attacks[\"Year\"] > 2025.0)]\n",
        "bad_years"
      ]
    },
    {
      "cell_type": "code",
      "execution_count": 771,
      "id": "e1d0f97c",
      "metadata": {},
      "outputs": [
        {
          "data": {
            "text/plain": [
              "count    6992.000000\n",
              "mean     1935.015875\n",
              "std       272.048122\n",
              "min         0.000000\n",
              "25%      1947.000000\n",
              "50%      1986.000000\n",
              "75%      2009.000000\n",
              "max      2025.000000\n",
              "Name: Year, dtype: float64"
            ]
          },
          "execution_count": 771,
          "metadata": {},
          "output_type": "execute_result"
        }
      ],
      "source": [
        "shark_attacks[\"Year\"].describe()\n",
        "\n",
        "# As you can see, there is a great range of years, going from \"0\" (before A.D.) all the way up to recently in Jan. 2025"
      ]
    },
    {
      "cell_type": "code",
      "execution_count": 723,
      "id": "80db625c",
      "metadata": {},
      "outputs": [
        {
          "name": "stderr",
          "output_type": "stream",
          "text": [
            "74946.67s - pydevd: Sending message related to process being replaced timed-out after 5 seconds\n"
          ]
        },
        {
          "name": "stdout",
          "output_type": "stream",
          "text": [
            "Requirement already satisfied: matplotlib in /Library/Frameworks/Python.framework/Versions/3.11/lib/python3.11/site-packages (3.10.0)\n",
            "Requirement already satisfied: contourpy>=1.0.1 in /Library/Frameworks/Python.framework/Versions/3.11/lib/python3.11/site-packages (from matplotlib) (1.3.1)\n",
            "Requirement already satisfied: cycler>=0.10 in /Library/Frameworks/Python.framework/Versions/3.11/lib/python3.11/site-packages (from matplotlib) (0.12.1)\n",
            "Requirement already satisfied: fonttools>=4.22.0 in /Library/Frameworks/Python.framework/Versions/3.11/lib/python3.11/site-packages (from matplotlib) (4.55.6)\n",
            "Requirement already satisfied: kiwisolver>=1.3.1 in /Library/Frameworks/Python.framework/Versions/3.11/lib/python3.11/site-packages (from matplotlib) (1.4.8)\n",
            "Requirement already satisfied: numpy>=1.23 in /Library/Frameworks/Python.framework/Versions/3.11/lib/python3.11/site-packages (from matplotlib) (2.1.3)\n",
            "Requirement already satisfied: packaging>=20.0 in /Library/Frameworks/Python.framework/Versions/3.11/lib/python3.11/site-packages (from matplotlib) (24.2)\n",
            "Requirement already satisfied: pillow>=8 in /Library/Frameworks/Python.framework/Versions/3.11/lib/python3.11/site-packages (from matplotlib) (11.1.0)\n",
            "Requirement already satisfied: pyparsing>=2.3.1 in /Library/Frameworks/Python.framework/Versions/3.11/lib/python3.11/site-packages (from matplotlib) (3.2.1)\n",
            "Requirement already satisfied: python-dateutil>=2.7 in /Library/Frameworks/Python.framework/Versions/3.11/lib/python3.11/site-packages (from matplotlib) (2.9.0.post0)\n",
            "Requirement already satisfied: six>=1.5 in /Library/Frameworks/Python.framework/Versions/3.11/lib/python3.11/site-packages (from python-dateutil>=2.7->matplotlib) (1.16.0)\n",
            "\n",
            "\u001b[1m[\u001b[0m\u001b[34;49mnotice\u001b[0m\u001b[1;39;49m]\u001b[0m\u001b[39;49m A new release of pip is available: \u001b[0m\u001b[31;49m24.3.1\u001b[0m\u001b[39;49m -> \u001b[0m\u001b[32;49m25.0\u001b[0m\n",
            "\u001b[1m[\u001b[0m\u001b[34;49mnotice\u001b[0m\u001b[1;39;49m]\u001b[0m\u001b[39;49m To update, run: \u001b[0m\u001b[32;49mpip3.11 install --upgrade pip\u001b[0m\n",
            "Note: you may need to restart the kernel to use updated packages.\n"
          ]
        }
      ],
      "source": [
        "%pip install matplotlib"
      ]
    },
    {
      "cell_type": "code",
      "execution_count": 772,
      "id": "b076fa28",
      "metadata": {},
      "outputs": [
        {
          "data": {
            "image/png": "[encoded data removed]",
            "text/plain": [
              "<Figure size 640x480 with 1 Axes>"
            ]
          },
          "metadata": {},
          "output_type": "display_data"
        }
      ],
      "source": [
        "import matplotlib.pyplot as plt\n",
        "filtered_years = shark_attacks[shark_attacks[\"Year\"] >= 1940]\n",
        "\n",
        "attacks = filtered_years.groupby(\"Year\").size()\n",
        "\n",
        "plt.plot(attacks)\n",
        "plt.show()\n",
        "\n",
        "# The attacks seem to be steadily increasing over time from 1940 to ~2020, when there is a sharp drop off. This is most likely due to the pandemic keeping people inside during ~2020, then a sharper drop off that is probably caused by missing data, as this year has barely started."
      ]
    },
    {
      "cell_type": "code",
      "execution_count": 773,
      "id": "e3f864bb",
      "metadata": {},
      "outputs": [
        {
          "data": {
            "text/plain": [
              "Age\n",
              "16             92\n",
              "19             90\n",
              "17             88\n",
              "18             85\n",
              "17             85\n",
              "               ..\n",
              "36 & 26         1\n",
              "77              1\n",
              "Teens           1\n",
              "28, 23 & 30     1\n",
              "13 or 14        1\n",
              "Name: count, Length: 246, dtype: int64"
            ]
          },
          "execution_count": 773,
          "metadata": {},
          "output_type": "execute_result"
        }
      ],
      "source": [
        "ages = shark_attacks[\"Age\"]\n",
        "freq = ages.value_counts()\n",
        "\n",
        "freq"
      ]
    },
    {
      "cell_type": "code",
      "execution_count": 774,
      "id": "f6f03644",
      "metadata": {},
      "outputs": [],
      "source": [
        "shark_attacks_cpy = shark_attacks.copy()"
      ]
    },
    {
      "cell_type": "code",
      "execution_count": 775,
      "id": "472fd440",
      "metadata": {},
      "outputs": [],
      "source": [
        "# Replacing all of the values that do not match a pattern and can be dealt with together with a best estimate\n",
        "replacements = {\n",
        "    \"?\": np.nan,\n",
        "    \"2 to 3 months\": 1,\n",
        "    \"9 months\":1,\n",
        "    \"18 months\": 1,\n",
        "    \"!2\": 2,\n",
        "    \"2½\": 3,\n",
        "    \"6½\": 7,\n",
        "    \"young\": 10,\n",
        "    '\"young\"': 10,\n",
        "    \"Teen\": 16,\n",
        "    \"Teens\": 16,\n",
        "    \"teen\": 16,\n",
        "    \"18 to 22\": 20,\n",
        "    \"20s\": 25,\n",
        "    \"20's\": 25,\n",
        "    \"20?\": 20,\n",
        "    \"20/30\": 25,\n",
        "    \"30s\": 35,\n",
        "    \"mid-30s\": 35,\n",
        "    \"mid-20s\": 25,\n",
        "    \"40s\": 45,\n",
        "    \"50s\": 50,\n",
        "    \">50\": 55,\n",
        "    \"60s\": 65,\n",
        "    \"60's\": 65,\n",
        "    \"60+\": 65,\n",
        "    \"Elderly\": 70,\n",
        "    \"adult\": 35,\n",
        "    \"(adult)\": 35,\n",
        "    '\"middle-age\"': 45,\n",
        "    \"Middle age\": 45,\n",
        "    \"!6\": 6,\n",
        "    \"a minor\": 13,\n",
        "    # for function later\n",
        "    \"Both 11\": \"11 & 11\"\n",
        "}\n",
        "shark_attacks_cpy.loc[:, \"Age\"] = shark_attacks_cpy[\"Age\"].replace(replacements)"
      ]
    },
    {
      "cell_type": "code",
      "execution_count": 776,
      "id": "481e283e",
      "metadata": {},
      "outputs": [
        {
          "name": "stdout",
          "output_type": "stream",
          "text": [
            "before: ['18 ', ' 20']\n",
            "after: 19\n",
            "before: ['12 ', ' 13']\n",
            "after: 12\n",
            "before: ['8 ', ' 10']\n",
            "after: 9\n",
            "before: ['30 ', ' 36']\n",
            "after: 33\n",
            "before: ['33 ', ' 37']\n",
            "after: 35\n",
            "before: ['16 ', ' 18']\n",
            "after: 17\n",
            "before: ['21 ', ' 26']\n",
            "after: 23\n",
            "before: ['25 ', ' 35']\n",
            "after: 30\n",
            "before: ['25 ', ' 28']\n",
            "after: 26\n",
            "before: ['13 ', ' 18']\n",
            "after: 15\n",
            "before: ['7 ', ' 8']\n",
            "after: 7\n",
            "before: ['8 ', ' 10']\n",
            "after: 9\n",
            "before: ['9 ', ' 10']\n",
            "after: 9\n",
            "before: ['10 ', ' 12']\n",
            "after: 11\n",
            "before: ['31 ', ' 33']\n",
            "after: 32\n",
            "before: ['7 ', ' 8']\n",
            "after: 7\n",
            "before: ['13 ', ' 14']\n",
            "after: 13\n"
          ]
        }
      ],
      "source": [
        "# Function that splits up different ages such as \"33 or 37\" to average out the ages\n",
        "# Use regex to locate strings with either or/to\n",
        "import re\n",
        "\n",
        "def average_out_ors(row):\n",
        "    str_age = str(row[\"Age\"])\n",
        "    age_with_delimiter = re.split(r'\\bor\\b|\\bto\\b', str_age)\n",
        "\n",
        "    if len(age_with_delimiter) > 1:\n",
        "        print(f\"before: {age_with_delimiter}\")\n",
        "        # row with or\n",
        "        age_sum = 0\n",
        "        count = 0\n",
        "        for i in age_with_delimiter:\n",
        "            i = i.strip()\n",
        "            if i.isdigit():\n",
        "                age_sum += int(i)\n",
        "                count += 1\n",
        "        cleaned_age = age_sum // count\n",
        "        print(f\"after: {cleaned_age}\")\n",
        "        return cleaned_age\n",
        "\n",
        "    return row[\"Age\"]\n",
        "\n",
        "shark_attacks_cpy.loc[:, \"Age\"] = shark_attacks_cpy.apply(average_out_ors, axis=1)"
      ]
    },
    {
      "cell_type": "code",
      "execution_count": 777,
      "id": "3e7e4777",
      "metadata": {},
      "outputs": [
        {
          "name": "stdout",
          "output_type": "stream",
          "text": [
            "[45, 15]\n",
            "nums: [45, 15]\n",
            "[28, 22]\n",
            "nums: [28, 22]\n",
            "[22, 57, 31]\n",
            "nums: [22, 57, 31]\n",
            "[9, 60]\n",
            "nums: [9, 60]\n",
            "[28, 26]\n",
            "nums: [28, 26]\n",
            "[46, 34]\n",
            "nums: [46, 34]\n",
            "[28, 23, 30]\n",
            "nums: [28, 23, 30]\n",
            "[36, 26]\n",
            "nums: [36, 26]\n",
            "[21]\n",
            "nums: [21]\n",
            "[23, 20]\n",
            "nums: [23, 20]\n",
            "[7, 31]\n",
            "nums: [7, 31]\n",
            "[32, 30]\n",
            "nums: [32, 30]\n",
            "[9, 12]\n",
            "nums: [9, 12]\n",
            "[19]\n",
            "nums: [19]\n",
            "[23, 26]\n",
            "nums: [23, 26]\n",
            "[33, 37]\n",
            "nums: [33, 37]\n",
            "[37, 67, 35, 27, 27]\n",
            "nums: [37, 67, 35, 27, 27]\n",
            "[21, 34, 24, 35]\n",
            "nums: [21, 34, 24, 35]\n",
            "[30, 32]\n",
            "nums: [30, 32]\n",
            "[50, 30]\n",
            "nums: [50, 30]\n",
            "[17, 35]\n",
            "nums: [17, 35]\n",
            "[34, 19]\n",
            "nums: [34, 19]\n",
            "[33, 26]\n",
            "nums: [33, 26]\n",
            "[17, 16]\n",
            "nums: [17, 16]\n",
            "[11, 11]\n",
            "nums: [11, 11]\n",
            "[36, 23]\n",
            "nums: [36, 23]\n",
            "[14]\n",
            "nums: [14]\n"
          ]
        }
      ],
      "source": [
        "# Now, we will do a similar thing with the 'and' + '&' rows, but this time, create new rows with all the same data except for the age to account for the multiple ages\n",
        "rows_to_add = []\n",
        "def generate_rows_to_add(row):\n",
        "    str_age = str(row[\"Age\"])\n",
        "    # regex to split on ',', 'and', or '&'\n",
        "    age_with_delimiter = re.split(r'[,\\s]*(?:and|&)[,\\s]*|,\\s*', str_age)\n",
        "\n",
        "    if len(age_with_delimiter) > 1:\n",
        "        nums = [int(num) for num in age_with_delimiter if num.strip().isdigit()]     \n",
        "\n",
        "        print(nums)\n",
        "        \n",
        "        if len(nums) >= 1:\n",
        "            print(f\"nums: {nums}\")\n",
        "            first_num = nums[0]\n",
        "            for i in range(1, len(nums)):\n",
        "                new_row = row.copy()\n",
        "                new_row[\"Age\"] = nums[i]\n",
        "                rows_to_add.append(new_row)\n",
        "\n",
        "            return first_num\n",
        "\n",
        "    return row[\"Age\"]\n",
        "\n",
        "shark_attacks_cpy.loc[:,\"Age\"] = shark_attacks_cpy.apply(generate_rows_to_add, axis=1)\n",
        "\n",
        "# Turn array into dataframe and append it to the shark attacks dataframe\n",
        "new_rows = pd.DataFrame(rows_to_add)\n",
        "shark_attacks_cpy = pd.concat([shark_attacks_cpy, new_rows], ignore_index=True)"
      ]
    },
    {
      "cell_type": "code",
      "execution_count": 778,
      "id": "784845a6",
      "metadata": {},
      "outputs": [
        {
          "data": {
            "text/plain": [
              "array(['M', '!!', '\\xa0 ', ' ', 'Ca. 33', 'X', 'MAKE LINE GREEN', 'F',\n",
              "       '  ', 'A.M.'], dtype=object)"
            ]
          },
          "execution_count": 778,
          "metadata": {},
          "output_type": "execute_result"
        }
      ],
      "source": [
        "# Now we are left with values that could not possibly be interpreted as numbers, so we can go ahead and make them NaN\n",
        "ages = shark_attacks_cpy[\"Age\"]\n",
        "# Function to check if a value is not an integer\n",
        "def is_not_integer(value):\n",
        "    try:\n",
        "        int(value)\n",
        "        return False\n",
        "    except (ValueError, TypeError):\n",
        "        return True\n",
        "\n",
        "# Filter the Series to include only non-integer values\n",
        "non_integers = ages[ages.apply(is_not_integer)].dropna().unique()\n",
        "non_integers"
      ]
    },
    {
      "cell_type": "code",
      "execution_count": 779,
      "id": "ea7f63aa",
      "metadata": {},
      "outputs": [
        {
          "data": {
            "text/plain": [
              "count    4015.000000\n",
              "mean       28.079950\n",
              "std        14.594992\n",
              "min         1.000000\n",
              "25%        17.000000\n",
              "50%        24.000000\n",
              "75%        36.000000\n",
              "max        87.000000\n",
              "Name: Age, dtype: float64"
            ]
          },
          "execution_count": 779,
          "metadata": {},
          "output_type": "execute_result"
        }
      ],
      "source": [
        "shark_attacks_cpy[\"Age\"] = pd.to_numeric(shark_attacks_cpy[\"Age\"], errors=\"coerce\")\n",
        "shark_attacks_cpy[\"Age\"].describe()"
      ]
    },
    {
      "cell_type": "code",
      "execution_count": 780,
      "id": "29388361",
      "metadata": {},
      "outputs": [
        {
          "data": {
            "image/png": "[encoded data removed]",
            "text/plain": [
              "<Figure size 640x480 with 1 Axes>"
            ]
          },
          "metadata": {},
          "output_type": "display_data"
        }
      ],
      "source": [
        "plt.hist(shark_attacks_cpy[\"Age\"].dropna())\n",
        "plt.xlabel(\"Age of Victim\")\n",
        "plt.ylabel(\"# of occurences\")\n",
        "plt.title(\"Age of Shark Attack Victims\")\n",
        "plt.show()"
      ]
    },
    {
      "cell_type": "code",
      "execution_count": 781,
      "id": "a0a1e6bc",
      "metadata": {},
      "outputs": [],
      "source": [
        "shark_attacks_sex = shark_attacks_cpy.copy()[\"Sex\"]"
      ]
    },
    {
      "cell_type": "code",
      "execution_count": 782,
      "id": "b7216521",
      "metadata": {},
      "outputs": [
        {
          "data": {
            "text/plain": [
              "array(['M', 'F', nan, ' M', 'M ', 'lli', 'M x 2', 'N', '.'], dtype=object)"
            ]
          },
          "execution_count": 782,
          "metadata": {},
          "output_type": "execute_result"
        }
      ],
      "source": [
        "shark_attacks_sex.unique()"
      ]
    },
    {
      "cell_type": "code",
      "execution_count": 783,
      "id": "c39d3c3b",
      "metadata": {},
      "outputs": [],
      "source": [
        "replacements = {\n",
        "    \" M\": \"M\",\n",
        "    \"M \": \"M\",\n",
        "    \"M x 2\": \"M\",\n",
        "}\n",
        "\n",
        "shark_attacks_sex = shark_attacks_sex.replace(replacements)"
      ]
    },
    {
      "cell_type": "code",
      "execution_count": 784,
      "id": "e1c1bc99",
      "metadata": {},
      "outputs": [],
      "source": [
        "shark_attacks_sex = shark_attacks_sex.apply(lambda x: x if x in {\"M\", \"F\"} else np.nan).astype('string')"
      ]
    },
    {
      "cell_type": "code",
      "execution_count": 785,
      "id": "db0bc2bc",
      "metadata": {},
      "outputs": [
        {
          "data": {
            "text/plain": [
              "<StringArray>\n",
              "['M', 'F', <NA>]\n",
              "Length: 3, dtype: string"
            ]
          },
          "execution_count": 785,
          "metadata": {},
          "output_type": "execute_result"
        }
      ],
      "source": [
        "shark_attacks_sex.unique()"
      ]
    },
    {
      "cell_type": "code",
      "execution_count": 786,
      "id": "52702ece",
      "metadata": {},
      "outputs": [
        {
          "name": "stdout",
          "output_type": "stream",
          "text": [
            "0.8764376748523469\n"
          ]
        }
      ],
      "source": [
        "counts = shark_attacks_sex.value_counts()\n",
        "\n",
        "male_proportion = counts[\"M\"]\n",
        "female_proportion = counts[\"F\"]\n",
        "\n",
        "print(male_proportion / (male_proportion + female_proportion))\n",
        "\n",
        "# The male proportion of attacks is 88%"
      ]
    },
    {
      "cell_type": "code",
      "execution_count": 787,
      "id": "d4eda062",
      "metadata": {},
      "outputs": [],
      "source": [
        "shark_attacks_type = shark_attacks_cpy.copy()[\"Type\"]"
      ]
    },
    {
      "cell_type": "code",
      "execution_count": 788,
      "id": "041a6e30",
      "metadata": {},
      "outputs": [
        {
          "data": {
            "text/plain": [
              "array(['Unprovoked', 'Provoked', ' Provoked', 'Questionable',\n",
              "       'Watercraft', 'Sea Disaster', nan, '?', 'Unconfirmed',\n",
              "       'Unverified', 'Invalid', 'Under investigation', 'Boat'],\n",
              "      dtype=object)"
            ]
          },
          "execution_count": 788,
          "metadata": {},
          "output_type": "execute_result"
        }
      ],
      "source": [
        "shark_attacks_type.unique()"
      ]
    },
    {
      "cell_type": "code",
      "execution_count": 789,
      "id": "a4627d44",
      "metadata": {},
      "outputs": [],
      "source": [
        "shark_attacks_type = shark_attacks_type.str.strip().str.capitalize()"
      ]
    },
    {
      "cell_type": "code",
      "execution_count": 790,
      "id": "a4eebe08",
      "metadata": {},
      "outputs": [],
      "source": [
        "types = {'Provoked', 'Unprovoked', 'Unknown'}\n",
        "shark_attacks_type = shark_attacks_type.where(shark_attacks_type.isin(types), 'Unknown').astype('string')"
      ]
    },
    {
      "cell_type": "code",
      "execution_count": 791,
      "id": "fc969457",
      "metadata": {},
      "outputs": [
        {
          "data": {
            "text/plain": [
              "<StringArray>\n",
              "['Unprovoked', 'Provoked', 'Unknown']\n",
              "Length: 3, dtype: string"
            ]
          },
          "execution_count": 791,
          "metadata": {},
          "output_type": "execute_result"
        }
      ],
      "source": [
        "shark_attacks_type.unique()"
      ]
    },
    {
      "cell_type": "code",
      "execution_count": 792,
      "id": "183ce8a7",
      "metadata": {},
      "outputs": [
        {
          "name": "stdout",
          "output_type": "stream",
          "text": [
            "0.7350135269827709\n"
          ]
        }
      ],
      "source": [
        "total = shark_attacks_type.notna().sum()\n",
        "counts = shark_attacks_type.value_counts()\n",
        "\n",
        "print(counts[\"Unprovoked\"] / total)\n",
        "# The proportion of unprovoked attacks is 74%"
      ]
    },
    {
      "cell_type": "code",
      "execution_count": 793,
      "id": "bc3b78d2",
      "metadata": {},
      "outputs": [],
      "source": [
        "shark_attacks_fatal = shark_attacks_cpy.copy()[\"Fatal Y/N\"]"
      ]
    },
    {
      "cell_type": "code",
      "execution_count": 794,
      "id": "0372d215",
      "metadata": {},
      "outputs": [
        {
          "data": {
            "text/plain": [
              "array(['N', 'Y', 'F', 'M', nan, 'n', 'Nq', 'UNKNOWN', 2017, 'Y x 2', ' N',\n",
              "       'N ', 'y'], dtype=object)"
            ]
          },
          "execution_count": 794,
          "metadata": {},
          "output_type": "execute_result"
        }
      ],
      "source": [
        "shark_attacks_fatal.unique()"
      ]
    },
    {
      "cell_type": "code",
      "execution_count": 795,
      "id": "a66ed176",
      "metadata": {},
      "outputs": [
        {
          "data": {
            "text/plain": [
              "array(['N', 'Y', 'F', 'M', nan, 'Nq', 'Unknown', 'Y x 2'], dtype=object)"
            ]
          },
          "execution_count": 795,
          "metadata": {},
          "output_type": "execute_result"
        }
      ],
      "source": [
        "shark_attacks_fatal = shark_attacks_fatal.str.strip().str.capitalize()\n",
        "shark_attacks_fatal.unique()"
      ]
    },
    {
      "cell_type": "code",
      "execution_count": 796,
      "id": "fcbab174",
      "metadata": {},
      "outputs": [],
      "source": [
        "types = {'Y', 'N', 'Unknown'}\n",
        "shark_attacks_fatal = shark_attacks_fatal.where(shark_attacks_fatal.isin(types), 'Unknown').astype('string')"
      ]
    },
    {
      "cell_type": "code",
      "execution_count": 797,
      "id": "e0eef196",
      "metadata": {},
      "outputs": [
        {
          "data": {
            "text/plain": [
              "<StringArray>\n",
              "['N', 'Y', 'Unknown']\n",
              "Length: 3, dtype: string"
            ]
          },
          "execution_count": 797,
          "metadata": {},
          "output_type": "execute_result"
        }
      ],
      "source": [
        "shark_attacks_fatal.unique()"
      ]
    },
    {
      "cell_type": "code",
      "execution_count": 798,
      "id": "8235d804",
      "metadata": {},
      "outputs": [],
      "source": [
        "# Adding all the data back to the original dataframe\n",
        "shark_attacks = shark_attacks_cpy\n",
        "shark_attacks[\"Sex\"] = shark_attacks_sex\n",
        "shark_attacks[\"Type\"] = shark_attacks_type\n",
        "shark_attacks[\"Fatal Y/N\"] = shark_attacks_fatal"
      ]
    },
    {
      "cell_type": "code",
      "execution_count": 799,
      "id": "a1b11281",
      "metadata": {},
      "outputs": [
        {
          "name": "stdout",
          "output_type": "stream",
          "text": [
            "Sex\n",
            "M    4320\n",
            "F     670\n",
            "Name: count, dtype: Int64\n"
          ]
        }
      ],
      "source": [
        "# Likelyhood\n",
        "unprovoked = shark_attacks[shark_attacks[\"Type\"] == \"Unprovoked\"]\n",
        "unprovoked_sex_counts = unprovoked[\"Sex\"].value_counts()\n",
        "\n",
        "print(unprovoked_sex_counts)\n",
        "\n",
        "# Looking at the counts, we can see that sharks are much more likely to launch unprovoked attacks on women"
      ]
    },
    {
      "cell_type": "code",
      "execution_count": 800,
      "id": "1c925d66",
      "metadata": {},
      "outputs": [
        {
          "name": "stdout",
          "output_type": "stream",
          "text": [
            "0.24292909724912826\n",
            "0.03426791277258567\n"
          ]
        }
      ],
      "source": [
        "provoked = shark_attacks[shark_attacks['Type'] == 'Provoked']\n",
        "unprovoked_fatality_rate = unprovoked['Fatal Y/N'].value_counts(normalize=True).get('Y', 0)\n",
        "provoked_fatality_rate = provoked['Fatal Y/N'].value_counts(normalize=True).get('Y', 0)\n",
        "\n",
        "print(unprovoked_fatality_rate)\n",
        "print(provoked_fatality_rate)\n",
        "\n",
        "# Looking at the rates, we can see that unprovoked attacks are much more likely to lead to fatal attacks"
      ]
    },
    {
      "cell_type": "code",
      "execution_count": 801,
      "id": "a0ef3ed9",
      "metadata": {},
      "outputs": [
        {
          "name": "stdout",
          "output_type": "stream",
          "text": [
            "Fatality rate by sex:\n",
            "Sex  Fatal Y/N\n",
            "F    N            0.761006\n",
            "     Y            0.150943\n",
            "     Unknown      0.088050\n",
            "M    N            0.696223\n",
            "     Y            0.220606\n",
            "     Unknown      0.083171\n",
            "Name: proportion, dtype: float64\n"
          ]
        }
      ],
      "source": [
        "fatal_by_sex = shark_attacks.groupby('Sex')['Fatal Y/N'].value_counts(normalize=True)\n",
        "print(\"Fatality rate by sex:\")\n",
        "print(fatal_by_sex)\n",
        "\n",
        "# It is slightly more likely that an attack on a male is fatal, but that may also be due to the higher number of attacks on males"
      ]
    },
    {
      "cell_type": "code",
      "execution_count": 754,
      "id": "ce746558",
      "metadata": {},
      "outputs": [],
      "source": [
        "# I always thought sharks were cool, and honestly it is probably more likely for a guy to do something stupid like swim with dangerous sharks, so this data has not swayed my opinion"
      ]
    },
    {
      "cell_type": "code",
      "execution_count": 802,
      "id": "9b7603d0",
      "metadata": {},
      "outputs": [],
      "source": [
        "# 9. What proportion of attacks appear to be by white sharks? (Hint: `str.split()` makes a vector of text values into a list of lists, split by spaces.)\n",
        "shark_attacks_species_split = shark_attacks.copy()"
      ]
    },
    {
      "cell_type": "code",
      "execution_count": 803,
      "id": "676851cb",
      "metadata": {},
      "outputs": [],
      "source": [
        "shark_attacks_species_split['Species_splt'] = shark_attacks_species_split['Species '].apply(lambda x: str(x).split() if pd.notna(x) else [])\n"
      ]
    },
    {
      "cell_type": "code",
      "execution_count": 804,
      "id": "ef087c43",
      "metadata": {},
      "outputs": [],
      "source": [
        "shark_attacks_species_split[\"White_Shark\"] = shark_attacks_species_split[\"Species_splt\"].apply(lambda x: 'White' in [str(c).capitalize() for c in x])"
      ]
    },
    {
      "cell_type": "code",
      "execution_count": 805,
      "id": "d5b4c221",
      "metadata": {},
      "outputs": [
        {
          "name": "stdout",
          "output_type": "stream",
          "text": [
            "0.1005268403816033\n"
          ]
        }
      ],
      "source": [
        "proportion_white_sharks = shark_attacks_species_split['White_Shark'].mean()\n",
        "\n",
        "print(proportion_white_sharks)\n",
        "\n",
        "# Around 10% of all attacks are from 'White' sharks"
      ]
    },
    {
      "cell_type": "markdown",
      "id": "5735a4d4-8be8-433a-a351-70eb8002e632",
      "metadata": {
        "id": "5735a4d4-8be8-433a-a351-70eb8002e632"
      },
      "source": [
        "**Q3.** Open the \"tidy_data.pdf\" document in the repo, which is a paper called Tidy Data by Hadley Wickham.\n",
        "\n",
        "  1. Read the abstract. What is this paper about?\n",
        "\n",
        "  This paper is about a small but important aspect of data cleaning: data tidying. These datasets are easy to manipulate, model, and visualize. It covers a framework that makes it easy to tidy messy datasets, as only a small set of tools are needed. Also, it makes it easy to develop these tools for analysis.\n",
        "\n",
        "  2. Read the introduction. What is the \"tidy data standard\" intended to accomplish?\n",
        "\n",
        "It intends to organize datasets in a consistent way to simplify the analysis and cleaning processes and tool integration. It also reduces the need for repeated data transformations and allows people to focus on their main goal instead of the logistics.\n",
        "\n",
        "  3. Read the intro to section 2. What does this sentence mean: \"Like families, tidy datasets are all alike but every messy dataset is messy in its own way.\" What does this sentence mean: \"For a given dataset, it’s usually easy to figure out what are observations and what are variables, but it is surprisingly difficult to precisely define variables and observations in general.\"\n",
        "\n",
        "-\"Like families, tidy datasets are all alike but every messy dataset is messy in its own way.\": Tidy datasets follow a consistent format, making them both similar to each other and easy to manipulate and obtain wanted trends simply.\n",
        "\n",
        "-\"For a given dataset, it’s usually easy to figure out what are observations and what are variables, but it is surprisingly difficult to precisely define variables and observations in general.\": While it is generally easy to identify what constitutes observations and variables, it is hard to come up with a universal definition for what qualifies as an observation or variable across ALL datasets, as they can vary greatly in many ways.\n",
        "\n",
        "  \n",
        "  4. Read Section 2.2. How does Wickham define values, variables, and observations?\n",
        "\n",
        "-Values are defined as usually either numbers of strings (if quantitative/qualitative). \n",
        "-Variables contain all values that measure the same underlying attribute (height, temperature, etc.) across all units.\n",
        "-Observations contain all values measured on the same unit (person, a day, a race) across attributes\n",
        "\n",
        "  5. How is \"Tidy Data\" defined in section 2.3?\n",
        "\n",
        "A standard way of mapping the meaning of a dataset to its structure. It depends of how rows, columns, and tables are matched up with observations, variables, and types.\n",
        "\n",
        "  6. Read the intro to Section 3 and Section 3.1. What are the 5 most common problems with messy datasets? Why are the data in Table 4 messy? What is \"melting\" a dataset?\n",
        "\n",
        "-Column headers are values, not variable names\n",
        "-Multiple variables are stored in one column\n",
        "-Variables are stored in both rows and columns\n",
        "-Multiple types of observational units are stored in the same table\n",
        "-A single observational unit is stored in multiple tables\n",
        "\n",
        "-For table 4, the data is messy because the column headers are the values that should be included in each row, not something like 'income' and 'frequency'\n",
        "\n",
        "-Melting a dataset (or stacking) is essentially turning columns into rows. In table 4, this would be creating new observations for each different religion and their income, and mapping that to the frequency that it occurs.\n",
        "\n",
        "  7. Why, specifically, is table 11 messy but table 12 tidy and \"molten\"?\n",
        "\n",
        "Table 11 is messy, as the d1-d31 columns store unnecessary data for the observations that do not have data for that day. Table 12 is molten, as it combines these superfluous columns into a standardized 'date' column, which allows for the values once stored sporadically in d1-d31 to be stored in a single column.\n",
        "\n",
        "  8. Read Section 6. What is the \"chicken-and-egg\" problem with focusing on tidy data? What does Wickham hope happens in the future with further work on the subject of data wrangling?\n",
        "\n",
        "  The chicken and egg problem is that the usefulness of tidy data is very dependent on the tools that work with it. Since tidy tools are designed to work with tidy data, the development of a tool is linked to the development of others. This causes a situation where making improvements in tools may not lead to improvements of workflow. Wickham hopes that further work on data wrangling will lead to better tools and strategies for managing data. He envisions improvements in data manipulation and user-centered design."
      ]
    },
    {
      "cell_type": "markdown",
      "id": "649494cd-cfd6-4f80-992a-9994fc19e1d5",
      "metadata": {
        "id": "649494cd-cfd6-4f80-992a-9994fc19e1d5"
      },
      "source": [
        "**Q4.** Many important datasets contain a race variable, typically limited to a handful of values often including Black, White, Asian, Latino, and Indigenous. This question looks at data gathering efforts on this variable by the U.S. Federal government.\n",
        "\n",
        "1. How did the most recent US Census gather data on race?\n",
        "2. Why do we gather these data? What role do these kinds of data play in politics and society? Why does data quality matter?\n",
        "3. Please provide a constructive criticism of how the Census was conducted: What was done well? What do you think was missing? How should future large scale surveys be adjusted to best reflect the diversity of the population? Could some of the Census' good practices be adopted more widely to gather richer and more useful data?\n",
        "4. How did the Census gather data on sex and gender? Please provide a similar constructive criticism of their practices.\n",
        "5. When it comes to cleaning data, what concerns do you have about protected characteristics like sex, gender, sexual identity, or race? What challenges can you imagine arising when there are missing values? What good or bad practices might people adopt, and why?\n",
        "6. Suppose someone invented an algorithm to impute values for protected characteristics like race, gender, sex, or sexuality. What kinds of concerns would you have?"
      ]
    }
  ],
  "metadata": {
    "colab": {
      "provenance": []
    },
    "kernelspec": {
      "display_name": "Python 3",
      "language": "python",
      "name": "python3"
    },
    "language_info": {
      "codemirror_mode": {
        "name": "ipython",
        "version": 3
      },
      "file_extension": ".py",
      "mimetype": "text/x-python",
      "name": "python",
      "nbconvert_exporter": "python",
      "pygments_lexer": "ipython3",
      "version": "3.11.1"
    }
  },
  "nbformat": 4,
  "nbformat_minor": 5
}
